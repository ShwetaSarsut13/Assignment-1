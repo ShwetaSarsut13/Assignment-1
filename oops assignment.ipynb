{
  "nbformat": 4,
  "nbformat_minor": 0,
  "metadata": {
    "colab": {
      "provenance": []
    },
    "kernelspec": {
      "name": "python3",
      "display_name": "Python 3"
    },
    "language_info": {
      "name": "python"
    }
  },
  "cells": [
    {
      "cell_type": "markdown",
      "source": [
        "1. What are the five key concepts of Object-Oriented Programming (OOP)?\n",
        "\n",
        "\n",
        "The five key concepts of Object-Oriented Programming (OOP) are:\n",
        "\n",
        "1. Class\n",
        "\n",
        "A class is a blueprint for creating objects. It defines the properties (attributes) and behaviors (methods) that the objects created from the class will have. A class can be thought of as a template that defines the structure of an object.\n",
        "\n",
        "Example:"
      ],
      "metadata": {
        "id": "HS6X0OHtTIq2"
      }
    },
    {
      "cell_type": "code",
      "source": [
        "class Car:\n",
        "    def __init__(self, brand, model):\n",
        "        self.brand = brand\n",
        "        self.model = model\n",
        "\n",
        "    def drive(self):\n",
        "        print(f\"The {self.brand} {self.model} is driving.\")\n"
      ],
      "metadata": {
        "id": "SQV5jsO9TW8K"
      },
      "execution_count": 1,
      "outputs": []
    },
    {
      "cell_type": "markdown",
      "source": [
        "2. Object\n",
        "\n",
        "An object is an instance of a class. When a class is defined, no memory is allocated until an object is created from the class. Each object has its own copy of the attributes and methods defined in the class.\n",
        "\n",
        "Example:"
      ],
      "metadata": {
        "id": "SfXfGYKnTdW_"
      }
    },
    {
      "cell_type": "code",
      "source": [
        "my_car = Car(\"Toyota\", \"Corolla\")  # Creating an object (instance) of class Car\n",
        "my_car.drive()  # Output: The Toyota Corolla is driving.\n"
      ],
      "metadata": {
        "colab": {
          "base_uri": "https://localhost:8080/"
        },
        "id": "Z7WK4B5WTjWO",
        "outputId": "a7e8cebd-7c37-4896-bbcd-d012fc1fe64f"
      },
      "execution_count": 2,
      "outputs": [
        {
          "output_type": "stream",
          "name": "stdout",
          "text": [
            "The Toyota Corolla is driving.\n"
          ]
        }
      ]
    },
    {
      "cell_type": "markdown",
      "source": [
        "3. Encapsulation\n",
        "\n",
        "Encapsulation is the concept of bundling data (attributes) and methods (functions) into a single unit (class). It restricts direct access to some of an object’s components, typically using access control mechanisms like private or protected attributes, allowing only controlled access through methods.\n",
        "\n",
        "Example:"
      ],
      "metadata": {
        "id": "DmHKPNaJTz4c"
      }
    },
    {
      "cell_type": "code",
      "source": [
        "class Employee:\n",
        "    def __init__(self, name, salary):\n",
        "        self.name = name\n",
        "        self.__salary = salary  # Private attribute\n",
        "\n",
        "    def get_salary(self):\n",
        "        return self.__salary  # Accessing private data through a method\n"
      ],
      "metadata": {
        "id": "fqO1bejuT4uJ"
      },
      "execution_count": 3,
      "outputs": []
    },
    {
      "cell_type": "markdown",
      "source": [
        "4. Inheritance\n",
        "\n",
        "Inheritance allows one class (child or subclass) to inherit attributes and methods from another class (parent or superclass). This promotes code reuse and establishes a relationship between parent and child classes. The child class can extend or override the functionality of the parent class.\n",
        "\n",
        "Example:\n"
      ],
      "metadata": {
        "id": "DDFu8WC_UJL4"
      }
    },
    {
      "cell_type": "code",
      "source": [
        "class Animal:\n",
        "    def sound(self):\n",
        "        print(\"Some generic animal sound\")\n",
        "\n",
        "class Dog(Animal):  # Inherits from Animal\n",
        "    def sound(self):\n",
        "        print(\"Bark\")  # Overrides the method\n",
        "\n",
        "my_dog = Dog()\n",
        "my_dog.sound()  # Output: Bark\n"
      ],
      "metadata": {
        "colab": {
          "base_uri": "https://localhost:8080/"
        },
        "id": "RjN5LScxUmrg",
        "outputId": "4dd47d18-34d1-40da-fc7d-9bca61e5a126"
      },
      "execution_count": 4,
      "outputs": [
        {
          "output_type": "stream",
          "name": "stdout",
          "text": [
            "Bark\n"
          ]
        }
      ]
    },
    {
      "cell_type": "markdown",
      "source": [
        "5. Polymorphism\n",
        "\n",
        "Polymorphism refers to the ability to present the same interface for different types of objects. In Python, this can be achieved through method overriding, where a subclass provides a specific implementation of a method that is already defined in the parent class, or through method overloading.\n",
        "\n",
        "Example:"
      ],
      "metadata": {
        "id": "bxtSo_lgUr_2"
      }
    },
    {
      "cell_type": "code",
      "source": [
        "class Bird:\n",
        "    def sound(self):\n",
        "        print(\"Tweet\")\n",
        "\n",
        "class Cat:\n",
        "    def sound(self):\n",
        "        print(\"Meow\")\n",
        "\n",
        "# Polymorphism: Both classes have the same method name, but behave differently\n",
        "for animal in [Bird(), Cat()]:\n",
        "    animal.sound()\n",
        "# Output:\n",
        "# Tweet\n",
        "# Meow\n"
      ],
      "metadata": {
        "colab": {
          "base_uri": "https://localhost:8080/"
        },
        "id": "Y5WJFwldU186",
        "outputId": "d90bba49-7753-4132-dc42-4c7345d79507"
      },
      "execution_count": 5,
      "outputs": [
        {
          "output_type": "stream",
          "name": "stdout",
          "text": [
            "Tweet\n",
            "Meow\n"
          ]
        }
      ]
    },
    {
      "cell_type": "markdown",
      "source": [
        "Bonus Concept: Abstraction\n",
        "\n",
        "Abstraction involves hiding complex implementation details and showing only the necessary parts of an object to the outside world. It reduces complexity by providing a simplified interface to interact with the object.\n",
        "\n",
        "Example:"
      ],
      "metadata": {
        "id": "VD-ncYmfU7pQ"
      }
    },
    {
      "cell_type": "code",
      "source": [
        "from abc import ABC, abstractmethod\n",
        "\n",
        "class Vehicle(ABC):\n",
        "    @abstractmethod\n",
        "    def start(self):\n",
        "        pass\n",
        "\n",
        "class Car(Vehicle):\n",
        "    def start(self):\n",
        "        print(\"Car is starting with a key.\")\n"
      ],
      "metadata": {
        "id": "LsCqw6CpVcfv"
      },
      "execution_count": 6,
      "outputs": []
    },
    {
      "cell_type": "markdown",
      "source": [
        "Summary of Key OOP Concepts:\n",
        "\n",
        "\n",
        "Class: Blueprint for creating objects.\n",
        "\n",
        "Object: Instance of a class.\n",
        "\n",
        "Encapsulation: Bundling and restricting access to data.\n",
        "\n",
        "Inheritance: Reusing code and establishing parent-child relationships.\n",
        "\n",
        "Polymorphism: Using the same method interface for different types of objects.\n",
        "\n",
        "These concepts form the foundation of object-oriented programming, allowing for modular, reusable, and maintainable code.\n",
        "\n",
        "2. Write a Python class for a `Car` with attributes for `make`, `model`, and `year`. Include a method to display the car's information?\n",
        "\n",
        "Here’s a Python class for a Car with the attributes make, model, and year, and a method to display the car's information:\n",
        "\n",
        "\n",
        "\n",
        "\n",
        "\n",
        "\n",
        "\n",
        "\n",
        "\n",
        "\n"
      ],
      "metadata": {
        "id": "WXsmTWAVVwd_"
      }
    },
    {
      "cell_type": "code",
      "source": [
        "class Car:\n",
        "    def __init__(self, make, model, year):\n",
        "        # Attributes\n",
        "        self.make = make\n",
        "        self.model = model\n",
        "        self.year = year\n",
        "\n",
        "    # Method to display car information\n",
        "    def display_info(self):\n",
        "        print(f\"Car Information: {self.year} {self.make} {self.model}\")\n",
        "\n",
        "# Example usage\n",
        "my_car = Car(\"Toyota\", \"Corolla\", 2020)\n",
        "my_car.display_info()  # Output: Car Information: 2020 Toyota Corolla\n"
      ],
      "metadata": {
        "colab": {
          "base_uri": "https://localhost:8080/"
        },
        "id": "7DrxmTMuWrBR",
        "outputId": "a87e89d7-7b0f-47f7-a0aa-a20d22002f7e"
      },
      "execution_count": 7,
      "outputs": [
        {
          "output_type": "stream",
          "name": "stdout",
          "text": [
            "Car Information: 2020 Toyota Corolla\n"
          ]
        }
      ]
    },
    {
      "cell_type": "markdown",
      "source": [
        "Breakdown:\n",
        "\n",
        "The Car class has three attributes: make, model, and year, which are initialized through the constructor (__init__ method).\n",
        "\n",
        "The display_info() method prints the car’s information in a formatted string.\n",
        "\n",
        "An example object my_car is created using the Car class, and the display_info() method is called to display its information.\n",
        "\n",
        "\n",
        "3. Explain the difference between instance methods and class methods. Provide an example of each.\n",
        "\n",
        "In Python, instance methods and class methods differ in how they interact with the class and its instances. Here's a breakdown of the differences along with examples:\n",
        "\n",
        "1. Instance Methods\n",
        "\n",
        "Definition: Instance methods are the most common type of methods in a class. They work with an instance of the class and can access and modify the instance's attributes.\n",
        "\n",
        "Access: These methods take the instance (self) as their first parameter, and they can access instance attributes and other instance methods.\n",
        "\n",
        "Use Case: Instance methods are used when you need to manipulate or access data specific to an instance.\n",
        "\n",
        "Example of Instance Method:\n",
        "\n",
        "\n",
        "\n",
        "\n"
      ],
      "metadata": {
        "id": "HwUZZ0w4Wwva"
      }
    },
    {
      "cell_type": "code",
      "source": [
        "class Car:\n",
        "    def __init__(self, make, model, year):\n",
        "        self.make = make\n",
        "        self.model = model\n",
        "        self.year = year\n",
        "\n",
        "    # Instance method\n",
        "    def display_info(self):\n",
        "        print(f\"Car: {self.year} {self.make} {self.model}\")\n",
        "\n",
        "# Creating an instance of the Car class\n",
        "my_car = Car(\"Toyota\", \"Camry\", 2021)\n",
        "my_car.display_info()  # Output: Car: 2021 Toyota Camry\n",
        "\n"
      ],
      "metadata": {
        "colab": {
          "base_uri": "https://localhost:8080/"
        },
        "id": "8qjF-JVEX5zm",
        "outputId": "fbfc9ec2-aabf-403c-b667-975b0428caf3"
      },
      "execution_count": 8,
      "outputs": [
        {
          "output_type": "stream",
          "name": "stdout",
          "text": [
            "Car: 2021 Toyota Camry\n"
          ]
        }
      ]
    },
    {
      "cell_type": "markdown",
      "source": [
        "In this example, display_info() is an instance method because it uses self to access instance-specific attributes (make, model, year).\n",
        "\n",
        "2. Class Methods\n",
        "\n",
        "Definition: Class methods are methods that are bound to the class, not the individual instance. They take the class (cls) as their first parameter and can modify class-level attributes but cannot modify instance-level attributes directly.\n",
        "\n",
        "Decorator: Class methods are defined using the @classmethod decorator.\n",
        "Use Case: Class methods are used when you want to work with class-level data (attributes shared across all instances), or when you want to provide alternative constructors for creating instances.\n",
        "\n",
        "Example of Class Method:\n",
        "\n"
      ],
      "metadata": {
        "id": "agzADiaKYMbB"
      }
    },
    {
      "cell_type": "code",
      "source": [
        "class Car:\n",
        "    # Class attribute\n",
        "    car_count = 0\n",
        "\n",
        "    def __init__(self, make, model, year):\n",
        "        self.make = make\n",
        "        self.model = model\n",
        "        self.year = year\n",
        "        Car.car_count += 1  # Increment class-level attribute\n",
        "\n",
        "    # Class method\n",
        "    @classmethod\n",
        "    def total_cars(cls):\n",
        "        print(f\"Total cars created: {cls.car_count}\")\n",
        "\n",
        "# Creating instances of the Car class\n",
        "car1 = Car(\"Toyota\", \"Corolla\", 2020)\n",
        "car2 = Car(\"Honda\", \"Civic\", 2021)\n",
        "\n",
        "# Calling the class method using the class itself\n",
        "Car.total_cars()  # Output: Total cars created: 2\n"
      ],
      "metadata": {
        "colab": {
          "base_uri": "https://localhost:8080/"
        },
        "id": "Ac27O5onYhvz",
        "outputId": "c4bd758b-792f-4c56-e937-ec710e146d77"
      },
      "execution_count": 9,
      "outputs": [
        {
          "output_type": "stream",
          "name": "stdout",
          "text": [
            "Total cars created: 2\n"
          ]
        }
      ]
    },
    {
      "cell_type": "markdown",
      "source": [
        "In this example, total_cars() is a class method that operates on the class attribute car_count, which is shared across all instances of the class. It tracks how many Car objects have been created.\n",
        "\n",
        "Key Differences:\n",
        "\n",
        "Feature  \t           Instance Method\t        Class Method\n",
        "First Parameter - \tself (refers to the instance),\tcls (refers to the class itself)\n",
        "  \n",
        "Access to Data\t- Can access and modify instance-specific data\t,Can access and modify class-level data\n",
        "\n",
        "Decorator  -  \tNone   ,\t@classmethod\n",
        "\n",
        "When to Use\t-  When behavior depends on instance attributes,\tWhen behavior depends on class-level logic\n",
        "\n",
        "Invocation\t-  Can be called on an instance\t,Can be called on the class or an instance\n",
        "\n",
        "Summary:\n",
        "\n",
        "Instance Methods: Operate on individual instances of a class, using the instance's data (self).\n",
        "\n",
        "Class Methods: Operate on the class itself, using class-level data (cls), and are often used for utility functions or factory methods.\n",
        "\n",
        "4. How does Python implement method overloading? Give an example.\n",
        "\n",
        "In Python, method overloading (the ability to define multiple methods with the same name but different arguments) is not directly supported in the way it is in some other programming languages like Java or C++. Instead, Python implements method overloading through techniques like using default arguments or the *args and **kwargs mechanisms to handle a variable number of arguments in a single method.\n",
        "\n",
        "How Python handles Method Overloading:\n",
        "\n",
        "Default Arguments:\n",
        "\n",
        "You can define default values for some parameters in a method. If the method is called with fewer arguments, the default values are used.\n",
        "\n",
        "Variable-Length Arguments (*args, **kwargs):\n",
        "\n",
        "You can use *args (for positional arguments) and **kwargs (for keyword arguments) to allow the method to accept a variable number of arguments.\n",
        "\n",
        "Example of Method Overloading using Default Arguments\n",
        "In this example, the method can be called with one or two arguments:"
      ],
      "metadata": {
        "id": "19MrRNrNYtRp"
      }
    },
    {
      "cell_type": "code",
      "source": [
        "class Calculator:\n",
        "    def add(self, a, b=0):\n",
        "        return a + b\n",
        "\n",
        "# Example usage\n",
        "calc = Calculator()\n",
        "\n",
        "# Calling add with one argument\n",
        "print(calc.add(5))  # Output: 5 (5 + 0)\n",
        "\n",
        "# Calling add with two arguments\n",
        "print(calc.add(5, 3))  # Output: 8\n"
      ],
      "metadata": {
        "colab": {
          "base_uri": "https://localhost:8080/"
        },
        "id": "c2EY7RzybHw9",
        "outputId": "4981ec44-c707-44bc-f250-ed2c64112e79"
      },
      "execution_count": 10,
      "outputs": [
        {
          "output_type": "stream",
          "name": "stdout",
          "text": [
            "5\n",
            "8\n"
          ]
        }
      ]
    },
    {
      "cell_type": "markdown",
      "source": [
        "Here, add() can be called with either one or two arguments due to the default value of b=0. This simulates method overloading.\n",
        "\n",
        "Example of Method Overloading using *args\n",
        "\n",
        "In this example, the method can handle any number of arguments:"
      ],
      "metadata": {
        "id": "1tc1YDHmbPXn"
      }
    },
    {
      "cell_type": "code",
      "source": [
        "class Calculator:\n",
        "    def add(self, *args):\n",
        "        return sum(args)\n",
        "\n",
        "# Example usage\n",
        "calc = Calculator()\n",
        "\n",
        "# Calling add with two arguments\n",
        "print(calc.add(5, 3))  # Output: 8\n",
        "\n",
        "# Calling add with three arguments\n",
        "print(calc.add(1, 2, 3))  # Output: 6\n",
        "\n",
        "# Calling add with one argument\n",
        "print(calc.add(10))  # Output: 10\n"
      ],
      "metadata": {
        "colab": {
          "base_uri": "https://localhost:8080/"
        },
        "id": "dHMOFf5VbVyr",
        "outputId": "b57dc7d2-fa83-4b00-85ca-8347eb328858"
      },
      "execution_count": 11,
      "outputs": [
        {
          "output_type": "stream",
          "name": "stdout",
          "text": [
            "8\n",
            "6\n",
            "10\n"
          ]
        }
      ]
    },
    {
      "cell_type": "markdown",
      "source": [
        "Here, the *args allows the add() method to accept any number of positional arguments, simulating overloading by varying the number of inputs.\n",
        "\n",
        "Key Takeaways:\n",
        "\n",
        "Python doesn't support traditional method overloading with multiple methods of the same name but different signatures.\n",
        "\n",
        "Default arguments and *args/**kwargs are common strategies to handle multiple variations of a method's behavior.\n",
        "\n",
        "5. What are the three types of access modifiers in Python? How are they denoted?\n",
        "\n",
        "In Python, access modifiers control the visibility of class members (attributes and methods). Python does not have strict access modifiers like some other object-oriented languages (e.g., public, protected, private in Java), but it uses naming conventions to indicate the intended level of access. These modifiers are:\n",
        "\n",
        "1. Public\n",
        "\n",
        "Denotation: No special prefix; accessible from anywhere.\n",
        "\n",
        "Description: A public member is accessible both inside and outside of the class. By default, all attributes and methods in Python are public.\n",
        "\n",
        "Example:\n",
        "\n",
        "\n",
        "\n",
        "\n",
        "\n"
      ],
      "metadata": {
        "id": "AnFEZ8Dzbcka"
      }
    },
    {
      "cell_type": "code",
      "source": [
        "class MyClass:\n",
        "    def __init__(self):\n",
        "        self.name = \"Public Name\"  # Public attribute\n",
        "\n",
        "    def display(self):\n",
        "        print(self.name)  # Public method\n",
        "\n",
        "obj = MyClass()\n",
        "print(obj.name)  # Accessing public attribute from outside (Output: Public Name)\n",
        "\n"
      ],
      "metadata": {
        "colab": {
          "base_uri": "https://localhost:8080/"
        },
        "id": "ljyns-MucKvm",
        "outputId": "e21d79ad-1121-4aff-f5d9-42b13a650740"
      },
      "execution_count": 12,
      "outputs": [
        {
          "output_type": "stream",
          "name": "stdout",
          "text": [
            "Public Name\n"
          ]
        }
      ]
    },
    {
      "cell_type": "markdown",
      "source": [
        "2. Protected\n",
        "\n",
        "Denotation: Single underscore _ prefix.\n",
        "\n",
        "Description: A protected member is intended to be used within the class and its subclasses. It is a convention that signals that this member is intended for internal use, but it is still accessible outside the class (Python doesn't enforce strict protection like other languages).\n",
        "\n",
        "Example:"
      ],
      "metadata": {
        "id": "aSaD2yWxcUd-"
      }
    },
    {
      "cell_type": "code",
      "source": [
        "class MyClass:\n",
        "    def __init__(self):\n",
        "        self._protected_attr = \"Protected Attribute\"  # Protected attribute\n",
        "\n",
        "    def _protected_method(self):\n",
        "        print(\"This is a protected method\")\n",
        "\n",
        "class SubClass(MyClass):\n",
        "    def access_protected(self):\n",
        "        print(self._protected_attr)  # Accessing protected attribute\n",
        "        self._protected_method()      # Accessing protected method\n",
        "\n",
        "obj = SubClass()\n",
        "obj.access_protected()  # Output: Protected Attribute \\n This is a protected method\n"
      ],
      "metadata": {
        "colab": {
          "base_uri": "https://localhost:8080/"
        },
        "id": "f_vp0ItIcfc0",
        "outputId": "154a8cc1-6c95-45ac-a7aa-2690a940c120"
      },
      "execution_count": 13,
      "outputs": [
        {
          "output_type": "stream",
          "name": "stdout",
          "text": [
            "Protected Attribute\n",
            "This is a protected method\n"
          ]
        }
      ]
    },
    {
      "cell_type": "markdown",
      "source": [
        "3. Private\n",
        "\n",
        "Denotation: Double underscore __ prefix.\n",
        "\n",
        "Description: A private member is intended to be inaccessible from outside the class, and it is subject to name mangling, meaning Python changes the name internally to prevent accidental access. Private members are only accessible within the class, not from outside or in subclasses.\n",
        "\n",
        "Example:"
      ],
      "metadata": {
        "id": "_IevcAQJczMu"
      }
    },
    {
      "cell_type": "code",
      "source": [
        "class MyClass:\n",
        "    def __init__(self):\n",
        "        self.__private_attr = \"Private Attribute\"  # Private attribute\n",
        "\n",
        "    def __private_method(self):\n",
        "        print(\"This is a private method\")\n",
        "\n",
        "    def access_private(self):\n",
        "        print(self.__private_attr)  # Can access private within class\n",
        "        self.__private_method()\n",
        "\n",
        "obj = MyClass()\n",
        "obj.access_private()  # Output: Private Attribute \\n This is a private method\n",
        "\n",
        "# Accessing private members from outside will raise an error\n",
        "# print(obj.__private_attr)  # AttributeError: 'MyClass' object has no attribute '__private_attr'\n"
      ],
      "metadata": {
        "colab": {
          "base_uri": "https://localhost:8080/"
        },
        "id": "OCrpOMFlc4c1",
        "outputId": "776e1e15-2082-4c6f-dc62-266097e4aed7"
      },
      "execution_count": 14,
      "outputs": [
        {
          "output_type": "stream",
          "name": "stdout",
          "text": [
            "Private Attribute\n",
            "This is a private method\n"
          ]
        }
      ]
    },
    {
      "cell_type": "markdown",
      "source": [
        "Name Mangling:\n",
        "\n",
        "Python uses name mangling to \"hide\" private members. For example, an attribute like __private_attr will internally be changed to _MyClass__private_attr, which prevents direct access from outside the class but can still be accessed using the mangled name if necessary."
      ],
      "metadata": {
        "id": "3liZNOWFdPsP"
      }
    },
    {
      "cell_type": "code",
      "source": [
        "# Accessing a private member using name mangling\n",
        "print(obj._MyClass__private_attr)  # Output: Private Attribute\n"
      ],
      "metadata": {
        "colab": {
          "base_uri": "https://localhost:8080/"
        },
        "id": "ASSrnXcbdVDh",
        "outputId": "e468c1bf-d583-4440-e216-3818943e9ab8"
      },
      "execution_count": 16,
      "outputs": [
        {
          "output_type": "stream",
          "name": "stdout",
          "text": [
            "Private Attribute\n"
          ]
        }
      ]
    },
    {
      "cell_type": "markdown",
      "source": [
        "Summary of Access Modifiers:\n",
        "\n",
        "Public: Accessible from anywhere (no underscore).\n",
        "\n",
        "Protected: Intended for internal use, but can be accessed from outside if necessary (_single_underscore).\n",
        "\n",
        "Private: Intended to be hidden from outside the class, with limited access (__double_underscore). Name mangling provides a way to avoid accidental access.\n",
        "\n",
        "These access modifiers help guide the usage of attributes and methods in Python and are useful for organizing class behavior.\n",
        "\n",
        "6. Describe the five types of inheritance in Python. Provide a simple example of multiple inheritance.\n",
        "\n",
        "Python supports five types of inheritance, which allow a class to inherit attributes and methods from other classes. These types of inheritance define how the child class is related to one or more parent classes.\n",
        "\n",
        "1. Single Inheritance\n",
        "\n",
        "Definition: A child class inherits from a single parent class.\n",
        "\n",
        "Use Case: This is the simplest form of inheritance, used when there’s a direct relationship between two classes.\n",
        "\n",
        "Example:"
      ],
      "metadata": {
        "id": "UCKOpLD-dxkc"
      }
    },
    {
      "cell_type": "code",
      "source": [
        "class Animal:\n",
        "    def speak(self):\n",
        "        print(\"Animal speaks\")\n",
        "\n",
        "class Dog(Animal):  # Single inheritance\n",
        "    def bark(self):\n",
        "        print(\"Dog barks\")\n",
        "\n",
        "dog = Dog()\n",
        "dog.speak()  # Output: Animal speaks\n",
        "dog.bark()   # Output: Dog barks\n"
      ],
      "metadata": {
        "colab": {
          "base_uri": "https://localhost:8080/"
        },
        "id": "aY6eOohEeXsv",
        "outputId": "b9dae3ad-6112-4b35-eefb-ad85edc06e7e"
      },
      "execution_count": 17,
      "outputs": [
        {
          "output_type": "stream",
          "name": "stdout",
          "text": [
            "Animal speaks\n",
            "Dog barks\n"
          ]
        }
      ]
    },
    {
      "cell_type": "markdown",
      "source": [
        "2. Multiple Inheritance\n",
        "\n",
        "Definition: A child class inherits from more than one parent class. The child class can access attributes and methods from all its parent classes.\n",
        "\n",
        "Use Case: Useful when a class needs to inherit functionality from multiple sources.\n",
        "\n",
        "Example:\n",
        "\n"
      ],
      "metadata": {
        "id": "R3YXMo7yeeJX"
      }
    },
    {
      "cell_type": "code",
      "source": [
        "class Father:\n",
        "    def show_father(self):\n",
        "        print(\"Father's trait\")\n",
        "\n",
        "class Mother:\n",
        "    def show_mother(self):\n",
        "        print(\"Mother's trait\")\n",
        "\n",
        "class Child(Father, Mother):  # Multiple inheritance\n",
        "    def show_child(self):\n",
        "        print(\"Child's trait\")\n",
        "\n",
        "child = Child()\n",
        "child.show_father()  # Output: Father's trait\n",
        "child.show_mother()  # Output: Mother's trait\n",
        "child.show_child()   # Output: Child's trait\n"
      ],
      "metadata": {
        "colab": {
          "base_uri": "https://localhost:8080/"
        },
        "id": "--H4rrO-ejsM",
        "outputId": "975ee73c-f946-4f96-adab-f11b1cf249ec"
      },
      "execution_count": 18,
      "outputs": [
        {
          "output_type": "stream",
          "name": "stdout",
          "text": [
            "Father's trait\n",
            "Mother's trait\n",
            "Child's trait\n"
          ]
        }
      ]
    },
    {
      "cell_type": "markdown",
      "source": [
        "3. Multilevel Inheritance\n",
        "\n",
        "Definition: A child class inherits from a parent class, and then another class inherits from the child class, forming a chain of inheritance.\n",
        "\n",
        "Use Case: Useful when different levels of abstraction or classification are required.\n",
        "\n",
        "Example:"
      ],
      "metadata": {
        "id": "hb2qrDJ0epPj"
      }
    },
    {
      "cell_type": "code",
      "source": [
        "class Grandparent:\n",
        "    def show_grandparent(self):\n",
        "        print(\"Grandparent's trait\")\n",
        "\n",
        "class Parent(Grandparent):  # Inherits from Grandparent\n",
        "    def show_parent(self):\n",
        "        print(\"Parent's trait\")\n",
        "\n",
        "class Child(Parent):  # Inherits from Parent\n",
        "    def show_child(self):\n",
        "        print(\"Child's trait\")\n",
        "\n",
        "child = Child()\n",
        "child.show_grandparent()  # Output: Grandparent's trait\n",
        "child.show_parent()       # Output: Parent's trait\n",
        "child.show_child()        # Output: Child's trait\n"
      ],
      "metadata": {
        "colab": {
          "base_uri": "https://localhost:8080/"
        },
        "id": "Y8T6dJEvetlW",
        "outputId": "add1044b-2240-4507-fe38-810ccb2b90ee"
      },
      "execution_count": 19,
      "outputs": [
        {
          "output_type": "stream",
          "name": "stdout",
          "text": [
            "Grandparent's trait\n",
            "Parent's trait\n",
            "Child's trait\n"
          ]
        }
      ]
    },
    {
      "cell_type": "markdown",
      "source": [
        "4. Hierarchical Inheritance\n",
        "\n",
        "Definition: Multiple child classes inherit from a single parent class. Each child class gets the attributes and methods of the parent class.\n",
        "\n",
        "Use Case: Useful when different types of objects share common behavior but have their own unique characteristics.\n",
        "\n",
        "Example:"
      ],
      "metadata": {
        "id": "6L7M8dDEe1Be"
      }
    },
    {
      "cell_type": "code",
      "source": [
        "class Animal:\n",
        "    def speak(self):\n",
        "        print(\"Animal speaks\")\n",
        "\n",
        "class Dog(Animal):  # Inherits from Animal\n",
        "    def bark(self):\n",
        "        print(\"Dog barks\")\n",
        "\n",
        "class Cat(Animal):  # Inherits from Animal\n",
        "    def meow(self):\n",
        "        print(\"Cat meows\")\n",
        "\n",
        "dog = Dog()\n",
        "dog.speak()  # Output: Animal speaks\n",
        "dog.bark()   # Output: Dog barks\n",
        "\n",
        "cat = Cat()\n",
        "cat.speak()  # Output: Animal speaks\n",
        "cat.meow()   # Output: Cat meows\n"
      ],
      "metadata": {
        "colab": {
          "base_uri": "https://localhost:8080/"
        },
        "id": "mmQHzaVue6AK",
        "outputId": "0faafeda-4fbd-402b-c040-a57dbe59a933"
      },
      "execution_count": 20,
      "outputs": [
        {
          "output_type": "stream",
          "name": "stdout",
          "text": [
            "Animal speaks\n",
            "Dog barks\n",
            "Animal speaks\n",
            "Cat meows\n"
          ]
        }
      ]
    },
    {
      "cell_type": "markdown",
      "source": [
        "5. Hybrid Inheritance\n",
        "\n",
        "Definition: A combination of two or more types of inheritance. This can include a mix of single, multiple, and multilevel inheritance structures.\n",
        "\n",
        "Use Case: Hybrid inheritance is used when complex relationships between classes are needed, combining different inheritance types to share functionality across multiple classes.\n",
        "\n",
        "Example:"
      ],
      "metadata": {
        "id": "VbgtyXe5fUic"
      }
    },
    {
      "cell_type": "code",
      "source": [
        "class Animal:\n",
        "    def speak(self):\n",
        "        print(\"Animal speaks\")\n",
        "\n",
        "class Mammal(Animal):  # Single Inheritance\n",
        "    def feed_milk(self):\n",
        "        print(\"Mammal feeds milk\")\n",
        "\n",
        "class Bird(Animal):  # Another inheritance from Animal\n",
        "    def lay_eggs(self):\n",
        "        print(\"Bird lays eggs\")\n",
        "\n",
        "class Bat(Mammal, Bird):  # Multiple Inheritance\n",
        "    def fly(self):\n",
        "        print(\"Bat flies\")\n",
        "\n",
        "bat = Bat()\n",
        "bat.speak()      # Inherited from Animal (Output: Animal speaks)\n",
        "bat.feed_milk()  # Inherited from Mammal (Output: Mammal feeds milk)\n",
        "bat.lay_eggs()   # Inherited from Bird (Output: Bird lays eggs)\n",
        "bat.fly()        # Output: Bat flies\n"
      ],
      "metadata": {
        "colab": {
          "base_uri": "https://localhost:8080/"
        },
        "id": "Bvb4VJ7BfcEj",
        "outputId": "9a319151-ba99-4c61-dbce-c07875b1058a"
      },
      "execution_count": 21,
      "outputs": [
        {
          "output_type": "stream",
          "name": "stdout",
          "text": [
            "Animal speaks\n",
            "Mammal feeds milk\n",
            "Bird lays eggs\n",
            "Bat flies\n"
          ]
        }
      ]
    },
    {
      "cell_type": "markdown",
      "source": [
        "Example of Multiple Inheritance:\n",
        "\n",
        "In Python, a class can inherit from more than one parent class, allowing it to combine features from both.\n"
      ],
      "metadata": {
        "id": "lmArKPuBfl-7"
      }
    },
    {
      "cell_type": "code",
      "source": [
        "class Father:\n",
        "    def skill(self):\n",
        "        print(\"Father is good at driving.\")\n",
        "\n",
        "class Mother:\n",
        "    def talent(self):\n",
        "        print(\"Mother is good at painting.\")\n",
        "\n",
        "class Child(Father, Mother):  # Multiple Inheritance\n",
        "    def hobby(self):\n",
        "        print(\"Child enjoys playing football.\")\n",
        "\n",
        "child = Child()\n",
        "child.skill()   # Output: Father is good at driving.\n",
        "child.talent()  # Output: Mother is good at painting.\n",
        "child.hobby()   # Output: Child enjoys playing football.\n"
      ],
      "metadata": {
        "colab": {
          "base_uri": "https://localhost:8080/"
        },
        "id": "UvEvir0QfpYc",
        "outputId": "e376b2b5-fb0c-4453-ad0b-595be263c7bb"
      },
      "execution_count": 22,
      "outputs": [
        {
          "output_type": "stream",
          "name": "stdout",
          "text": [
            "Father is good at driving.\n",
            "Mother is good at painting.\n",
            "Child enjoys playing football.\n"
          ]
        }
      ]
    },
    {
      "cell_type": "markdown",
      "source": [
        "In this example, the Child class inherits attributes and methods from both Father and Mother classes, showcasing how Python supports multiple inheritance.\n",
        "\n",
        "7. What is the Method Resolution Order (MRO) in Python? How can you retrieve it programmatically?\n",
        "\n",
        "Method Resolution Order (MRO) in Python\n",
        "\n",
        "The Method Resolution Order (MRO) is the order in which Python looks for a method or attribute in a hierarchy of classes during inheritance. It defines the path that Python follows when searching for methods or attributes in multiple inheritance scenarios, ensuring that the proper method or attribute is called.\n",
        "\n",
        "The MRO is especially important in cases of multiple inheritance, where a class can inherit from multiple parent classes. Python uses the C3 linearization algorithm (also known as the C3 superclass linearization) to determine the MRO in a consistent and predictable manner.\n",
        "\n",
        "How MRO Works:\n",
        "\n",
        "Python starts searching for a method in the current class (the one calling the method).\n",
        "\n",
        "If not found, it continues searching in the parent classes according to the MRO.\n",
        "The MRO follows a depth-first, left-to-right rule in inheritance trees but also respects the order of base classes in the class definition.\n",
        "\n",
        "Example of MRO:\n",
        "\n",
        "In the case of multiple inheritance, the MRO determines the order in which parent classes are searched:"
      ],
      "metadata": {
        "id": "CdliAX7gf3rT"
      }
    },
    {
      "cell_type": "code",
      "source": [
        "class A:\n",
        "    def show(self):\n",
        "        print(\"A\")\n",
        "\n",
        "class B(A):\n",
        "    def show(self):\n",
        "        print(\"B\")\n",
        "\n",
        "class C(A):\n",
        "    def show(self):\n",
        "        print(\"C\")\n",
        "\n",
        "class D(B, C):  # Multiple inheritance\n",
        "    pass\n",
        "\n",
        "d = D()\n",
        "d.show()  # Output: B\n"
      ],
      "metadata": {
        "colab": {
          "base_uri": "https://localhost:8080/"
        },
        "id": "AoRq1TJjgtOb",
        "outputId": "05bc3fd8-b89e-4051-f7cf-3df648b775da"
      },
      "execution_count": 23,
      "outputs": [
        {
          "output_type": "stream",
          "name": "stdout",
          "text": [
            "B\n"
          ]
        }
      ]
    },
    {
      "cell_type": "markdown",
      "source": [
        "In this example:\n",
        "\n",
        "D inherits from both B and C, which both inherit from A.\n",
        "\n",
        "When calling d.show(), Python looks at the MRO to determine which show method to call.\n",
        "\n",
        "The MRO of D is D -> B -> C -> A, so it calls the show method from class B.\n",
        "\n",
        "\n",
        "How to Retrieve the MRO Programmatically\n",
        "\n",
        "You can retrieve the Method Resolution Order (MRO) in Python in the following ways:\n",
        "\n",
        "1.Using the __mro__ attribute: This returns a tuple showing the MRO of the class.\n",
        "\n"
      ],
      "metadata": {
        "id": "reEuE6M5hKy9"
      }
    },
    {
      "cell_type": "code",
      "source": [
        "print(D.__mro__)\n"
      ],
      "metadata": {
        "colab": {
          "base_uri": "https://localhost:8080/"
        },
        "id": "8yEd3YV7hd8y",
        "outputId": "d1bd51d3-65dd-4c31-f519-6c3e27b2ed89"
      },
      "execution_count": 24,
      "outputs": [
        {
          "output_type": "stream",
          "name": "stdout",
          "text": [
            "(<class '__main__.D'>, <class '__main__.B'>, <class '__main__.C'>, <class '__main__.A'>, <class 'object'>)\n"
          ]
        }
      ]
    },
    {
      "cell_type": "markdown",
      "source": [
        "2. Using the mro() method: This returns a list of classes in the MRO."
      ],
      "metadata": {
        "id": "yuHQS8dehiT2"
      }
    },
    {
      "cell_type": "code",
      "source": [
        "print(D.mro())\n"
      ],
      "metadata": {
        "colab": {
          "base_uri": "https://localhost:8080/"
        },
        "id": "CbEE6XYbhkCM",
        "outputId": "195b9cb5-7f78-49b4-9689-aa668f96d19a"
      },
      "execution_count": 25,
      "outputs": [
        {
          "output_type": "stream",
          "name": "stdout",
          "text": [
            "[<class '__main__.D'>, <class '__main__.B'>, <class '__main__.C'>, <class '__main__.A'>, <class 'object'>]\n"
          ]
        }
      ]
    },
    {
      "cell_type": "markdown",
      "source": [
        "3. Using the help() function: The help() function will display detailed information, including the MRO."
      ],
      "metadata": {
        "id": "BE2nAwlvhtgE"
      }
    },
    {
      "cell_type": "code",
      "source": [
        "help(D)\n"
      ],
      "metadata": {
        "colab": {
          "base_uri": "https://localhost:8080/"
        },
        "id": "Fze4-cv4hzmw",
        "outputId": "e27fee23-7696-40a9-e6c4-d93ea03634d6"
      },
      "execution_count": 26,
      "outputs": [
        {
          "output_type": "stream",
          "name": "stdout",
          "text": [
            "Help on class D in module __main__:\n",
            "\n",
            "class D(B, C)\n",
            " |  Method resolution order:\n",
            " |      D\n",
            " |      B\n",
            " |      C\n",
            " |      A\n",
            " |      builtins.object\n",
            " |  \n",
            " |  Methods inherited from B:\n",
            " |  \n",
            " |  show(self)\n",
            " |  \n",
            " |  ----------------------------------------------------------------------\n",
            " |  Data descriptors inherited from A:\n",
            " |  \n",
            " |  __dict__\n",
            " |      dictionary for instance variables (if defined)\n",
            " |  \n",
            " |  __weakref__\n",
            " |      list of weak references to the object (if defined)\n",
            "\n"
          ]
        }
      ]
    },
    {
      "cell_type": "markdown",
      "source": [
        "Importance of MRO:\n",
        "\n",
        "It ensures consistency in method resolution, avoiding ambiguity in cases of multiple inheritance.\n",
        "\n",
        "It prevents the \"diamond problem\" (where the same method might be inherited from different classes along different paths) by ensuring that a method from a class is only called once in the MRO.\n",
        "\n",
        "\n",
        "Summary:\n",
        "\n",
        "MRO defines the order in which methods and attributes are searched in a class hierarchy.\n",
        "\n",
        "It follows a depth-first, left-to-right approach, respecting the inheritance structure.\n",
        "\n",
        "You can retrieve the MRO using __mro__, mro(), or help().\n",
        "\n",
        "The MRO is crucial in multiple inheritance to ensure that the right methods are called in the correct order.\n",
        "\n",
        "8. Create an abstract base class `Shape` with an abstract method `area()`. Then create two subclasses`Circle` and `Rectangle` that implement the `area()` method.\n",
        "\n",
        "In Python, you can create an abstract base class (ABC) using the abc module. Abstract base classes allow you to define methods that must be implemented by any subclass. The area() method in this case will be an abstract method that must be implemented in all subclasses.\n",
        "\n",
        "Here’s how you can create an abstract base class Shape and its subclasses Circle and Rectangle:\n",
        "\n",
        "Step-by-Step Solution:\n",
        "\n",
        "Abstract Base Class: Use ABC from the abc module to define an abstract class.\n",
        "\n",
        "Abstract Method: Define the area() method as an abstract method in the Shape class.\n",
        "\n",
        "Subclasses (Circle and Rectangle): Implement the area() method in these classes.\n",
        "\n",
        "\n",
        "Code Implementation:"
      ],
      "metadata": {
        "id": "9gSipCPIh5Qp"
      }
    },
    {
      "cell_type": "code",
      "source": [
        "from abc import ABC, abstractmethod\n",
        "import math\n",
        "\n",
        "# Abstract Base Class\n",
        "class Shape(ABC):\n",
        "    @abstractmethod\n",
        "    def area(self):\n",
        "        pass  # Abstract method, no implementation here\n",
        "\n",
        "# Subclass: Circle\n",
        "class Circle(Shape):\n",
        "    def __init__(self, radius):\n",
        "        self.radius = radius\n",
        "\n",
        "    # Implement the abstract method\n",
        "    def area(self):\n",
        "        return math.pi * self.radius ** 2  # Area of a circle: πr²\n",
        "\n",
        "# Subclass: Rectangle\n",
        "class Rectangle(Shape):\n",
        "    def __init__(self, width, height):\n",
        "        self.width = width\n",
        "        self.height = height\n",
        "\n",
        "    # Implement the abstract method\n",
        "    def area(self):\n",
        "        return self.width * self.height  # Area of a rectangle: width * height\n",
        "\n",
        "# Example usage\n",
        "circle = Circle(5)  # Circle with radius 5\n",
        "print(f\"Area of the circle: {circle.area()}\")  # Output: Area of the circle: 78.5398...\n",
        "\n",
        "rectangle = Rectangle(4, 6)  # Rectangle with width 4 and height 6\n",
        "print(f\"Area of the rectangle: {rectangle.area()}\")  # Output: Area of the rectangle: 24\n"
      ],
      "metadata": {
        "colab": {
          "base_uri": "https://localhost:8080/"
        },
        "id": "YBBipC29i6o9",
        "outputId": "7fffca7d-ee69-4298-92d7-45207ec76c5a"
      },
      "execution_count": 27,
      "outputs": [
        {
          "output_type": "stream",
          "name": "stdout",
          "text": [
            "Area of the circle: 78.53981633974483\n",
            "Area of the rectangle: 24\n"
          ]
        }
      ]
    },
    {
      "cell_type": "markdown",
      "source": [
        "Explanation:\n",
        "\n",
        "\n",
        "\n",
        "1.Shape (Abstract Class):\n",
        "\n",
        "Shape is an abstract base class that defines the abstract method area(). This method must be implemented by any class that inherits from Shape.\n",
        "\n",
        "@abstractmethod is a decorator that indicates that this method has no implementation in the base class and must be implemented by subclasses.\n",
        "\n",
        "2.Circle (Subclass):\n",
        "\n",
        "Circle is a subclass of Shape that implements the area() method. The area of a circle is calculated as πr², where r is the radius.\n",
        "\n",
        "3.Rectangle (Subclass):\n",
        "\n",
        "Rectangle is another subclass of Shape that implements the area() method. The area of a rectangle is calculated as width * height.\n",
        "\n",
        "Key Points:\n",
        "\n",
        "Abstract base class (ABC): Shape is an abstract class that defines a blueprint for its subclasses.\n",
        "\n",
        "Abstract method: The area() method is abstract and must be implemented in each subclass.\n",
        "\n",
        "Subclasses (Circle, Rectangle): Both subclasses implement their own versions of the area() method.\n",
        "\n",
        "This structure ensures that all shapes have an area() method, while the specific formula for calculating the area depends on the type of shape.\n",
        "\n",
        "9. Demonstrate polymorphism by creating a function that can work with different shape objects to calculate and print their areas.\n",
        "\n",
        "In Python, polymorphism allows functions to work with objects of different classes as long as those objects implement the expected behavior (e.g., methods). In this case, we can create a function that accepts any Shape object (such as a Circle or Rectangle) and calculates the area, showcasing polymorphism.\n",
        "\n",
        "Example of Polymorphism:\n",
        "\n",
        "We will build on the previous example, where both Circle and Rectangle subclasses implement the area() method from the abstract Shape class. Then, we’ll create a function that can take any shape object and print its area.\n",
        "\n",
        "Code Implementation:"
      ],
      "metadata": {
        "id": "oaAH36idjCLM"
      }
    },
    {
      "cell_type": "code",
      "source": [
        "from abc import ABC, abstractmethod\n",
        "import math\n",
        "\n",
        "# Abstract Base Class\n",
        "class Shape(ABC):\n",
        "    @abstractmethod\n",
        "    def area(self):\n",
        "        pass  # Abstract method, no implementation here\n",
        "\n",
        "# Subclass: Circle\n",
        "class Circle(Shape):\n",
        "    def __init__(self, radius):\n",
        "        self.radius = radius\n",
        "\n",
        "    def area(self):\n",
        "        return math.pi * self.radius ** 2  # Area of a circle: πr²\n",
        "\n",
        "# Subclass: Rectangle\n",
        "class Rectangle(Shape):\n",
        "    def __init__(self, width, height):\n",
        "        self.width = width\n",
        "        self.height = height\n",
        "\n",
        "    def area(self):\n",
        "        return self.width * self.height  # Area of a rectangle: width * height\n",
        "\n",
        "# Polymorphic function\n",
        "def print_area(shape):\n",
        "    print(f\"The area of the shape is: {shape.area()}\")\n",
        "\n",
        "# Example usage\n",
        "circle = Circle(5)  # Circle with radius 5\n",
        "rectangle = Rectangle(4, 6)  # Rectangle with width 4 and height 6\n",
        "\n",
        "# Using polymorphism\n",
        "print_area(circle)      # Output: The area of the shape is: 78.5398...\n",
        "print_area(rectangle)   # Output: The area of the shape is: 24\n"
      ],
      "metadata": {
        "colab": {
          "base_uri": "https://localhost:8080/"
        },
        "id": "VC8GF66LkSYz",
        "outputId": "fd0acd43-d309-471b-de0f-2a5215cc3438"
      },
      "execution_count": 28,
      "outputs": [
        {
          "output_type": "stream",
          "name": "stdout",
          "text": [
            "The area of the shape is: 78.53981633974483\n",
            "The area of the shape is: 24\n"
          ]
        }
      ]
    },
    {
      "cell_type": "markdown",
      "source": [
        "Explanation:\n",
        "\n",
        "1.Abstract Base Class (Shape):\n",
        "\n",
        "Shape defines the abstract method area(), which is implemented by the subclasses (Circle and Rectangle).\n",
        "\n",
        "2.Polymorphic Function (print_area):\n",
        "\n",
        "print_area is a polymorphic function that accepts any object that implements the area() method (in this case, any subclass of Shape). It doesn't need to know the exact type of shape; it simply calls the area() method.\n",
        "\n",
        "3.Polymorphism:\n",
        "\n",
        "The function print_area works with different types of shapes (Circle and Rectangle) but calls the area() method defined in each subclass. This demonstrates polymorphism, where the same function works with different types of objects.\n",
        "\n",
        "Key Points:\n",
        "\n",
        "Polymorphism allows the same function (print_area) to work with objects of different types (Circle, Rectangle), as long as they implement the required method (area()).\n",
        "\n",
        "This behavior enables flexibility and scalability, as you can add more shapes (e.g., Triangle, Square) that implement the area() method, and the print_area function would still work without modification.\n",
        "\n",
        "10. Implement encapsulation in a `BankAccount` class with private attributes for `balance` and `account_number`. Include methods for deposit, withdrawal, and balance inquiry.\n",
        "\n",
        "Encapsulation is one of the key concepts in Object-Oriented Programming (OOP). It involves restricting access to certain attributes of an object and providing controlled access via methods. In Python, encapsulation is implemented by making attributes private using a double underscore __ before the attribute name, and exposing them only through public methods.\n",
        "\n",
        "Implementing Encapsulation in a BankAccount Class:\n",
        "\n",
        "We’ll define a BankAccount class with private attributes:\n",
        "\n",
        "__balance: to store the account balance.\n",
        "\n",
        "__account_number: to store the account number.\n",
        "\n",
        "The class will have public methods:\n",
        "\n",
        "deposit(amount): to deposit money into the account.\n",
        "\n",
        "withdraw(amount): to withdraw money, checking for sufficient funds.\n",
        "\n",
        "get_balance(): to check the current balance.\n",
        "\n",
        "get_account_number(): to retrieve the account number (though it’s private, we provide a way to access it).\n",
        "\n",
        "Code Implementation:"
      ],
      "metadata": {
        "id": "UQl9rUsckaU6"
      }
    },
    {
      "cell_type": "code",
      "source": [
        "class BankAccount:\n",
        "    def __init__(self, account_number, balance=0):\n",
        "        self.__account_number = account_number  # Private attribute\n",
        "        self.__balance = balance  # Private attribute\n",
        "\n",
        "    # Method to deposit money\n",
        "    def deposit(self, amount):\n",
        "        if amount > 0:\n",
        "            self.__balance += amount\n",
        "            print(f\"Deposited {amount}. New balance is: {self.__balance}\")\n",
        "        else:\n",
        "            print(\"Deposit amount must be positive.\")\n",
        "\n",
        "    # Method to withdraw money\n",
        "    def withdraw(self, amount):\n",
        "        if 0 < amount <= self.__balance:\n",
        "            self.__balance -= amount\n",
        "            print(f\"Withdrew {amount}. New balance is: {self.__balance}\")\n",
        "        elif amount > self.__balance:\n",
        "            print(\"Insufficient funds.\")\n",
        "        else:\n",
        "            print(\"Withdrawal amount must be positive.\")\n",
        "\n",
        "    # Method to check the balance\n",
        "    def get_balance(self):\n",
        "        return self.__balance\n",
        "\n",
        "    # Method to get the account number\n",
        "    def get_account_number(self):\n",
        "        return self.__account_number\n",
        "\n",
        "# Example usage\n",
        "account = BankAccount(\"123456789\", 1000)\n",
        "\n",
        "# Depositing money\n",
        "account.deposit(500)  # Output: Deposited 500. New balance is: 1500\n",
        "\n",
        "# Withdrawing money\n",
        "account.withdraw(300)  # Output: Withdrew 300. New balance is: 1200\n",
        "\n",
        "# Checking balance\n",
        "print(f\"Current balance: {account.get_balance()}\")  # Output: Current balance: 1200\n",
        "\n",
        "# Accessing the account number\n",
        "print(f\"Account number: {account.get_account_number()}\")  # Output: Account number: 123456789\n",
        "\n",
        "# Trying to access private attributes directly (will fail)\n",
        "# print(account.__balance)  # This will raise an AttributeError\n",
        "# print(account.__account_number)  # This will raise an AttributeError\n"
      ],
      "metadata": {
        "colab": {
          "base_uri": "https://localhost:8080/"
        },
        "id": "r4WK5hIlmPPz",
        "outputId": "ed3688b6-96ee-4763-db88-3ea632ee5fd5"
      },
      "execution_count": 29,
      "outputs": [
        {
          "output_type": "stream",
          "name": "stdout",
          "text": [
            "Deposited 500. New balance is: 1500\n",
            "Withdrew 300. New balance is: 1200\n",
            "Current balance: 1200\n",
            "Account number: 123456789\n"
          ]
        }
      ]
    },
    {
      "cell_type": "markdown",
      "source": [
        "Explanation:\n",
        "\n",
        "1. Private Attributes:\n",
        "\n",
        "__balance and __account_number are private, meaning they cannot be accessed directly from outside the class.\n",
        "\n",
        "To ensure controlled access, we provide public methods for interacting with these attributes.\n",
        "\n",
        "2. Public Methods:\n",
        "\n",
        "deposit(amount): Adds money to the account, ensuring that the deposit amount is positive.\n",
        "withdraw(amount): Withdraws money only if there are sufficient funds, and the amount is positive.\n",
        "get_balance(): Allows the user to check the current balance.\n",
        "get_account_number(): Provides a way to access the private __account_number attribute.\n",
        "\n",
        "3. Encapsulation:\n",
        "\n",
        "The class encapsulates the logic for managing the account balance and ensures that only valid operations (like positive deposits or withdrawals within the balance limit) are allowed.\n",
        "\n",
        "Direct access to __balance and __account_number is restricted to prevent accidental or unauthorized changes.\n",
        "\n",
        "Key Points:\n",
        "\n",
        "Encapsulation protects the integrity of the balance and account_number attributes by keeping them private and only allowing controlled access via public methods.\n",
        "\n",
        "Users interact with the BankAccount class through the provided methods, ensuring that operations like deposits and withdrawals are performed in a secure and controlled manner.\n",
        "\n",
        "11. Write a class that overrides the `__str__` and `__add__` magic methods. What will these methods allow you to do?\n",
        "\n",
        "In Python, magic methods (also known as dunder methods) allow you to define how objects of your classes behave with built-in functions and operators. Two commonly used magic methods are __str__ and __add__.\n",
        "\n",
        "Purpose of the Magic Methods:\n",
        "\n",
        "__str__: This method is used to define a string representation of an object. It is called by the built-in str() function and by the print() function. Overriding this method allows you to customize how your object is represented as a string.\n",
        "\n",
        "__add__: This method is used to define the behavior of the addition operator (+). Overriding this method allows you to specify how two instances of your class can be added together.\n",
        "\n",
        "Example Implementation:\n",
        "\n",
        "Let's create a simple Vector class that represents a mathematical vector in two dimensions. We'll override the __str__ method to provide a readable string representation of the vector and the __add__ method to enable vector addition.\n",
        "\n",
        "\n",
        "\n",
        "\n",
        "\n"
      ],
      "metadata": {
        "id": "fsUVfFArmhN9"
      }
    },
    {
      "cell_type": "code",
      "source": [
        "class Vector:\n",
        "    def __init__(self, x, y):\n",
        "        self.x = x\n",
        "        self.y = y\n",
        "\n",
        "    # Overriding the __str__ method to provide a string representation of the vector\n",
        "    def __str__(self):\n",
        "        return f\"Vector({self.x}, {self.y})\"\n",
        "\n",
        "    # Overriding the __add__ method to add two vectors\n",
        "    def __add__(self, other):\n",
        "        if isinstance(other, Vector):\n",
        "            return Vector(self.x + other.x, self.y + other.y)\n",
        "        return NotImplemented  # Return NotImplemented for unsupported types\n",
        "\n",
        "# Example usage\n",
        "v1 = Vector(2, 3)\n",
        "v2 = Vector(4, 5)\n",
        "\n",
        "# Using the __str__ method\n",
        "print(v1)  # Output: Vector(2, 3)\n",
        "print(v2)  # Output: Vector(4, 5)\n",
        "\n",
        "# Using the __add__ method\n",
        "v3 = v1 + v2  # This calls v1.__add__(v2)\n",
        "print(v3)  # Output: Vector(6, 8)\n"
      ],
      "metadata": {
        "colab": {
          "base_uri": "https://localhost:8080/"
        },
        "id": "O_T05ngmn-lL",
        "outputId": "cd3aa76e-6ad3-4dec-86dc-281c3019ec85"
      },
      "execution_count": 30,
      "outputs": [
        {
          "output_type": "stream",
          "name": "stdout",
          "text": [
            "Vector(2, 3)\n",
            "Vector(4, 5)\n",
            "Vector(6, 8)\n"
          ]
        }
      ]
    },
    {
      "cell_type": "markdown",
      "source": [
        "Explanation:\n",
        "\n",
        "1. Vector Class:\n",
        "\n",
        "The Vector class has two attributes, x and y, which represent the components of the vector.\n",
        "\n",
        "2. Overriding __str__:\n",
        "\n",
        "The __str__ method is overridden to return a string in the format Vector(x, y). This allows for a human-readable representation of the vector when printed or converted to a string.\n",
        "\n",
        "3. Overriding __add__:\n",
        "\n",
        "The __add__ method checks if the other object being added is also an instance of the Vector class. If it is, it returns a new Vector whose components are the sum of the corresponding components of the two vectors.\n",
        "\n",
        "If other is not a Vector, the method returns NotImplemented, which tells Python that the addition is not supported for the given type.\n",
        "\n",
        "Key Points:\n",
        "\n",
        "Customization: By overriding __str__, we customize how the vector is displayed, making it easier to understand the output.\n",
        "\n",
        "Operator Overloading: By overriding __add__, we enable the use of the + operator to add two Vector instances, resulting in a new Vector object that represents the sum of the two.\n",
        "\n",
        "These magic methods enhance the usability of custom classes and allow you to integrate them more seamlessly with Python's syntax and built-in functionality.\n",
        "\n",
        "12. Create a decorator that measures and prints the execution time of a function.\n",
        "\n",
        "In Python, a decorator is a function that takes another function as an argument, extends its behavior, and returns a new function. You can use decorators to add functionality to existing functions in a clean and readable way.\n",
        "\n",
        "Creating a Decorator to Measure Execution Time\n",
        "To create a decorator that measures and prints the execution time of a function, you can use the time module to record the start and end times of the function's execution.\n",
        "\n",
        "Code Implementation:\n",
        "\n",
        "Here's how you can implement such a decorator:\n",
        "\n",
        "\n",
        "\n",
        "\n",
        "\n",
        "\n"
      ],
      "metadata": {
        "id": "7GQA3KEBochG"
      }
    },
    {
      "cell_type": "code",
      "source": [
        "import time\n",
        "\n",
        "def timing_decorator(func):\n",
        "    \"\"\"Decorator to measure execution time of a function.\"\"\"\n",
        "    def wrapper(*args, **kwargs):\n",
        "        start_time = time.time()  # Record the start time\n",
        "        result = func(*args, **kwargs)  # Call the original function\n",
        "        end_time = time.time()  # Record the end time\n",
        "        execution_time = end_time - start_time  # Calculate execution time\n",
        "        print(f\"Execution time of '{func.__name__}': {execution_time:.4f} seconds\")\n",
        "        return result  # Return the result of the original function\n",
        "    return wrapper\n",
        "\n",
        "# Example usage of the decorator\n",
        "\n",
        "@timing_decorator\n",
        "def example_function(n):\n",
        "    \"\"\"A function that simulates a time-consuming task.\"\"\"\n",
        "    total = 0\n",
        "    for i in range(n):\n",
        "        total += i ** 2  # Example calculation (summing squares)\n",
        "    return total\n",
        "\n",
        "# Call the decorated function\n",
        "result = example_function(1000000)  # Example: n = 1,000,000\n",
        "print(f\"Result: {result}\")\n"
      ],
      "metadata": {
        "colab": {
          "base_uri": "https://localhost:8080/"
        },
        "id": "RkcFb0bOp5oD",
        "outputId": "c601fd63-5917-4b74-e9df-1dab58a08f47"
      },
      "execution_count": 31,
      "outputs": [
        {
          "output_type": "stream",
          "name": "stdout",
          "text": [
            "Execution time of 'example_function': 0.3412 seconds\n",
            "Result: 333332833333500000\n"
          ]
        }
      ]
    },
    {
      "cell_type": "markdown",
      "source": [
        "Explanation:\n",
        "\n",
        "1. Decorator Function (timing_decorator):\n",
        "\n",
        "The timing_decorator function takes another function (func) as its argument.\n",
        "Inside, it defines a nested wrapper function that will execute the original function and measure its execution time.\n",
        "\n",
        "2. Measuring Time:\n",
        "\n",
        "The start_time is recorded before the function call.\n",
        "After the function execution, the end_time is recorded.\n",
        "The execution time is calculated by subtracting start_time from end_time.\n",
        "\n",
        "3. Printing Execution Time:\n",
        "\n",
        "The execution time is printed in seconds, formatted to four decimal places.\n",
        "\n",
        "4. Using the Decorator:\n",
        "\n",
        "The @timing_decorator syntax is used to apply the decorator to example_function. This means that whenever example_function is called, it will first run the wrapper function, which measures the execution time.\n",
        "\n",
        "5.Function Logic:\n",
        "\n",
        "The example_function simulates a time-consuming task by calculating the sum of squares from 0 to n-1\n",
        "\n",
        "Key Points:\n",
        "\n",
        "Flexibility: Decorators allow you to extend the functionality of functions without modifying their structure.\n",
        "\n",
        "Reusability: The timing_decorator can be applied to any function you want to measure, making it reusable across your codebase.\n",
        "\n",
        "Separation of Concerns: The timing logic is separated from the function logic, leading to cleaner and more maintainable code.\n",
        "\n",
        "13. Explain the concept of the Diamond Problem in multiple inheritance. How does Python resolve it?\n",
        "\n",
        "\n",
        "The Diamond Problem is a well-known issue that arises in the context of multiple inheritance in object-oriented programming. It occurs when a class inherits from two classes that both inherit from a common base class. This situation creates a \"diamond\" shape in the inheritance hierarchy.\n",
        "\n",
        "Diagram of the Diamond Problem\n",
        "\n",
        "Here's a simple representation of the Diamond Problem:\n",
        "\n",
        "\n",
        "\n",
        "\n",
        "\n"
      ],
      "metadata": {
        "id": "XLuKaTENqJap"
      }
    },
    {
      "cell_type": "code",
      "source": [
        "       A\n",
        "      / \\\n",
        "     B   C\n",
        "      \\ /\n",
        "       D\n"
      ],
      "metadata": {
        "id": "cR5s4MNYrOkQ"
      },
      "execution_count": null,
      "outputs": []
    },
    {
      "cell_type": "markdown",
      "source": [
        "Class A is the base class.\n",
        "\n",
        "Classes B and C both inherit from A.\n",
        "\n",
        "Class D inherits from both B and C.\n",
        "\n",
        "The Problem\n",
        "\n",
        "The main issue arises when class D tries to access a method or an attribute defined in class A. Since both B and C inherit from A, it becomes ambiguous as to which method or attribute from A should be used in D. This can lead to inconsistent behavior and ambiguity in the method resolution order (MRO).\n",
        "\n",
        "Example Illustration\n",
        "\n",
        "Let's consider a practical example in Python:"
      ],
      "metadata": {
        "id": "ppRzs8VsrTca"
      }
    },
    {
      "cell_type": "code",
      "source": [
        "class A:\n",
        "    def greet(self):\n",
        "        return \"Hello from A\"\n",
        "\n",
        "class B(A):\n",
        "    def greet(self):\n",
        "        return \"Hello from B\"\n",
        "\n",
        "class C(A):\n",
        "    def greet(self):\n",
        "        return \"Hello from C\"\n",
        "\n",
        "class D(B, C):\n",
        "    pass\n",
        "\n",
        "d = D()\n",
        "print(d.greet())  # Which greet() method should be called?\n"
      ],
      "metadata": {
        "colab": {
          "base_uri": "https://localhost:8080/"
        },
        "id": "xeN4FZP_rdXS",
        "outputId": "f8a56c8e-0833-4f3e-ce1e-466d55093fce"
      },
      "execution_count": 33,
      "outputs": [
        {
          "output_type": "stream",
          "name": "stdout",
          "text": [
            "Hello from B\n"
          ]
        }
      ]
    },
    {
      "cell_type": "markdown",
      "source": [
        "How Python Resolves the Diamond Problem\n",
        "\n",
        "Python uses a method resolution order (MRO) to resolve the Diamond Problem. The MRO is determined by the C3 Linearization Algorithm. This algorithm creates a linear order of classes based on the inheritance hierarchy, ensuring that each class is only considered once.\n",
        "\n",
        "MRO Resolution Steps:\n",
        "\n",
        "Depth-First Search: Python performs a depth-first search of the inheritance hierarchy while respecting the order of base classes. It checks the parent classes from left to right.\n",
        "\n",
        "Preserving Order: The MRO ensures that the order of the classes in the inheritance hierarchy is preserved. For example, in class D, the order of inheritance (B first, then C) dictates that the methods of B will be prioritized over those from C.\n",
        "\n",
        "Use of super(): When calling methods, you can use the super() function to invoke the next method in the MRO. This ensures that the method resolution is handled correctly, without ambiguity.\n",
        "\n",
        "Checking the MRO\n",
        "\n",
        "ou can check the MRO of a class using the __mro__ attribute or the mro() method:"
      ],
      "metadata": {
        "id": "-G-3bp96rtba"
      }
    },
    {
      "cell_type": "code",
      "source": [
        "print(D.__mro__)  # Output the method resolution order\n",
        "# or\n",
        "print(D.mro())\n"
      ],
      "metadata": {
        "colab": {
          "base_uri": "https://localhost:8080/"
        },
        "id": "LE23MTDpr_Nf",
        "outputId": "de4e635f-c016-4044-87c7-f513a7821bd6"
      },
      "execution_count": 34,
      "outputs": [
        {
          "output_type": "stream",
          "name": "stdout",
          "text": [
            "(<class '__main__.D'>, <class '__main__.B'>, <class '__main__.C'>, <class '__main__.A'>, <class 'object'>)\n",
            "[<class '__main__.D'>, <class '__main__.B'>, <class '__main__.C'>, <class '__main__.A'>, <class 'object'>]\n"
          ]
        }
      ]
    },
    {
      "cell_type": "markdown",
      "source": [
        "Conclusion\n",
        "\n",
        "The Diamond Problem occurs in multiple inheritance when two classes inherit from the same base class, leading to ambiguity.\n",
        "\n",
        "Python resolves this problem using the C3 linearization algorithm, which determines a clear method resolution order (MRO) that dictates how methods are looked up in the class hierarchy.\n",
        "\n",
        "By following the MRO, Python can avoid ambiguities and maintain a consistent behavior in multiple inheritance scenarios.\n",
        "\n",
        "14. Write a class method that keeps track of the number of instances created from a class.\n",
        "\n",
        "\n",
        "To keep track of the number of instances created from a class in Python, you can use a class variable that is shared among all instances of the class. Additionally, you can implement a class method to access this count.\n",
        "\n",
        "Code Implementation:\n",
        "\n",
        "Here's an example of a class called InstanceCounter that uses a class variable to count the number of instances:\n",
        "\n",
        "\n",
        "\n",
        "\n",
        "\n"
      ],
      "metadata": {
        "id": "HjWbB8aGsFLy"
      }
    },
    {
      "cell_type": "code",
      "source": [
        "class InstanceCounter:\n",
        "    instance_count = 0  # Class variable to track the number of instances\n",
        "\n",
        "    def __init__(self):\n",
        "        InstanceCounter.instance_count += 1  # Increment the count whenever an instance is created\n",
        "\n",
        "    @classmethod\n",
        "    def get_instance_count(cls):\n",
        "        \"\"\"Class method to get the current instance count.\"\"\"\n",
        "        return cls.instance_count\n",
        "\n",
        "# Example usage\n",
        "if __name__ == \"__main__\":\n",
        "    obj1 = InstanceCounter()\n",
        "    obj2 = InstanceCounter()\n",
        "    obj3 = InstanceCounter()\n",
        "\n",
        "    print(f\"Number of instances created: {InstanceCounter.get_instance_count()}\")  # Output: 3\n",
        "\n",
        "    obj4 = InstanceCounter()\n",
        "    print(f\"Number of instances created: {InstanceCounter.get_instance_count()}\")  # Output: 4\n"
      ],
      "metadata": {
        "colab": {
          "base_uri": "https://localhost:8080/"
        },
        "id": "QGbzQOx6sv5-",
        "outputId": "48fc1b2a-f7e1-40ec-a8d5-bcfe79871a2d"
      },
      "execution_count": 35,
      "outputs": [
        {
          "output_type": "stream",
          "name": "stdout",
          "text": [
            "Number of instances created: 3\n",
            "Number of instances created: 4\n"
          ]
        }
      ]
    },
    {
      "cell_type": "markdown",
      "source": [
        "Explanation:\n",
        "\n",
        "1. Class Variable:\n",
        "\n",
        "instance_count is a class variable that is shared among all instances of InstanceCounter. It is initialized to 0.\n",
        "\n",
        "2. Constructor (__init__):\n",
        "\n",
        "Every time an instance of InstanceCounter is created, the constructor (__init__) increments the instance_count by 1.\n",
        "\n",
        "3. Class Method (get_instance_count):\n",
        "\n",
        "The class method get_instance_count returns the current value of instance_count. This method is defined with the @classmethod decorator and takes cls (the class itself) as the first argument.\n",
        "\n",
        "4. Example Usage:\n",
        "\n",
        "In the if __name__ == \"__main__\": block, multiple instances of InstanceCounter are created. After each instance creation, the current count is retrieved and printed.\n",
        "\n",
        "Key Points:\n",
        "\n",
        "Class Variable: Class variables are useful for tracking data that should be shared among all instances of a class.\n",
        "\n",
        "Class Method: Class methods allow you to access class variables and perform operations that are related to the class itself, rather than to any specific instance.\n",
        "\n",
        "This implementation effectively tracks how many instances of InstanceCounter have been created during the program's execution.\n",
        "\n",
        "15. Implement a static method in a class that checks if a given year is a leap year.\n",
        "\n",
        "To implement a static method in a class that checks if a given year is a leap year, you can use the following rules for determining a leap year:\n",
        "\n",
        "A year is a leap year if it is divisible by 4.\n",
        "\n",
        "However, if the year is divisible by 100, it is not a leap year, unless it is also divisible by 400.\n",
        "\n",
        "Code Implementation:\n",
        "\n",
        "Here's a simple class called YearUtils that includes a static method is_leap_year to check if a given year is a leap year:"
      ],
      "metadata": {
        "id": "_pZqG5UJtLv2"
      }
    },
    {
      "cell_type": "code",
      "source": [
        "class YearUtils:\n",
        "    @staticmethod\n",
        "    def is_leap_year(year):\n",
        "        \"\"\"Static method to check if a given year is a leap year.\"\"\"\n",
        "        if (year % 4 == 0 and year % 100 != 0) or (year % 400 == 0):\n",
        "            return True\n",
        "        return False\n",
        "\n",
        "# Example usage\n",
        "if __name__ == \"__main__\":\n",
        "    years_to_check = [1996, 2000, 1900, 2024, 2023]\n",
        "\n",
        "    for year in years_to_check:\n",
        "        if YearUtils.is_leap_year(year):\n",
        "            print(f\"{year} is a leap year.\")\n",
        "        else:\n",
        "            print(f\"{year} is not a leap year.\")\n"
      ],
      "metadata": {
        "colab": {
          "base_uri": "https://localhost:8080/"
        },
        "id": "yoai13xmu0qH",
        "outputId": "0e799f93-7b4c-4a5a-b59a-94faab6ee286"
      },
      "execution_count": 36,
      "outputs": [
        {
          "output_type": "stream",
          "name": "stdout",
          "text": [
            "1996 is a leap year.\n",
            "2000 is a leap year.\n",
            "1900 is not a leap year.\n",
            "2024 is a leap year.\n",
            "2023 is not a leap year.\n"
          ]
        }
      ]
    },
    {
      "cell_type": "markdown",
      "source": [
        "Explanation:\n",
        "1. Static Method:\n",
        "\n",
        "The @staticmethod decorator is used to define a static method called is_leap_year within the YearUtils class. Static methods do not require an instance of the class to be called; they can be called on the class itself.\n",
        "\n",
        "2.Leap Year Logic:\n",
        "\n",
        "The method takes an integer year as an argument and checks the conditions for a leap year using the rules mentioned earlier. It returns True if the year is a leap year and False otherwise.\n",
        "\n",
        "3. Example Usage:\n",
        "\n",
        "In the if __name__ == \"__main__\": block, a list of years is defined, and the static method is called for each year to determine if it is a leap year or not. The results are printed accordingly.\n",
        "\n",
        "Key Points:\n",
        "\n",
        "Static Methods: Static methods are associated with the class rather than any particular instance. They are useful for utility functions that perform a specific task and do not rely on instance-specific data.\n",
        "\n",
        "Leap Year Logic: The implementation accurately checks if a year is a leap year based on the established rules, making it a useful utility for various applications.\n",
        "\n",
        "\n",
        "\n",
        "\n",
        "\n"
      ],
      "metadata": {
        "id": "HV5MN0CVu-Km"
      }
    }
  ]
}
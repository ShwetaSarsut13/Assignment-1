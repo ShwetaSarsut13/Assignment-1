{
  "nbformat": 4,
  "nbformat_minor": 0,
  "metadata": {
    "colab": {
      "provenance": []
    },
    "kernelspec": {
      "name": "python3",
      "display_name": "Python 3"
    },
    "language_info": {
      "name": "python"
    }
  },
  "cells": [
    {
      "cell_type": "code",
      "execution_count": null,
      "metadata": {
        "id": "OnIB6ZlSioDo"
      },
      "outputs": [],
      "source": []
    },
    {
      "cell_type": "markdown",
      "source": [
        "1. Discuss string slicing and provide examples.\n",
        "\n",
        "String Slicing\n",
        "String slicing is a technique in programming that allows you to extract a portion (or a \"slice\") of a string. In Python, strings are indexed, meaning each character has a position (or index) in the string. The first character is at index 0, the second at index 1, and so on. Negative indices can also be used, where -1 refers to the last character, -2 to the second-to-last, and so on.\n",
        "\n",
        "The syntax for string slicing is:"
      ],
      "metadata": {
        "id": "TjnUM5bWjfYb"
      }
    },
    {
      "cell_type": "code",
      "source": [
        "string[start:stop:step]\n"
      ],
      "metadata": {
        "id": "8VvESXI-kSqA"
      },
      "execution_count": null,
      "outputs": []
    },
    {
      "cell_type": "markdown",
      "source": [
        "start: The index to start the slice (inclusive).\n",
        "stop: The index to stop the slice (exclusive).\n",
        "step: The step or interval between indices (optional, defaults to 1).\n",
        "\n",
        "Basic Examples of String Slicing:\n",
        "\n",
        "1.Extracting a Substring:\n"
      ],
      "metadata": {
        "id": "Fg7yVOuGkUSu"
      }
    },
    {
      "cell_type": "code",
      "source": [
        "s = \"Hello, World!\"\n",
        "print(s[0:5])\n"
      ],
      "metadata": {
        "colab": {
          "base_uri": "https://localhost:8080/"
        },
        "id": "oAV3EKABmI3x",
        "outputId": "b37204c1-0c6c-49f5-ae9d-e5225c28ee88"
      },
      "execution_count": 6,
      "outputs": [
        {
          "output_type": "stream",
          "name": "stdout",
          "text": [
            "Hello\n"
          ]
        }
      ]
    },
    {
      "cell_type": "markdown",
      "source": [
        "This slices the string from index 0 to 4 (end index is exclusive).\n",
        "\n",
        "2.Slicing with Defaults:\n",
        "\n",
        "Omitting the start (starts from the beginning):\n"
      ],
      "metadata": {
        "id": "sWX89hPQmUOO"
      }
    },
    {
      "cell_type": "code",
      "source": [
        "s = \"Hello, World!\"\n",
        "print(s[:5])\n"
      ],
      "metadata": {
        "colab": {
          "base_uri": "https://localhost:8080/"
        },
        "id": "aSZwVieymh4r",
        "outputId": "bbd97eeb-45c8-4395-db1b-c31b3ade73da"
      },
      "execution_count": 7,
      "outputs": [
        {
          "output_type": "stream",
          "name": "stdout",
          "text": [
            "Hello\n"
          ]
        }
      ]
    },
    {
      "cell_type": "markdown",
      "source": [
        "Omitting both (returns the whole string):"
      ],
      "metadata": {
        "id": "_JpA8pfKmr97"
      }
    },
    {
      "cell_type": "code",
      "source": [
        "s = \"Hello, World!\"\n",
        "print(s[:])\n"
      ],
      "metadata": {
        "colab": {
          "base_uri": "https://localhost:8080/"
        },
        "id": "HD2AnexCm4k6",
        "outputId": "23645ff2-0240-4d8e-8b71-bfac03a12923"
      },
      "execution_count": 8,
      "outputs": [
        {
          "output_type": "stream",
          "name": "stdout",
          "text": [
            "Hello, World!\n"
          ]
        }
      ]
    },
    {
      "cell_type": "markdown",
      "source": [
        "3.Using Negative Indices: Python allows negative indices to start counting from the end of the string:\n",
        "\n",
        "Examples:\n",
        "\n",
        "\n"
      ],
      "metadata": {
        "id": "gkr1w4Cqm-JR"
      }
    },
    {
      "cell_type": "code",
      "source": [
        "s = \"Hello, World!\"\n",
        "print(s[-6:])\n"
      ],
      "metadata": {
        "colab": {
          "base_uri": "https://localhost:8080/"
        },
        "id": "p5mXVnbknIpZ",
        "outputId": "4e1b46c8-91ba-401b-f6ff-187784361e05"
      },
      "execution_count": 9,
      "outputs": [
        {
          "output_type": "stream",
          "name": "stdout",
          "text": [
            "World!\n"
          ]
        }
      ]
    },
    {
      "cell_type": "markdown",
      "source": [
        "Here, -6 means the sixth character from the end of the string.\n",
        "\n",
        "4. Slicing with a Step: You can specify a step value to skip characters.\n",
        "\n",
        "Examples:"
      ],
      "metadata": {
        "id": "ZgCO21wrnOpu"
      }
    },
    {
      "cell_type": "code",
      "source": [
        "s = \"Hello, World!\"\n",
        "print(s[::2])\n"
      ],
      "metadata": {
        "colab": {
          "base_uri": "https://localhost:8080/"
        },
        "id": "am2xSqGbnfnz",
        "outputId": "31852b0c-70e9-41a2-95f2-d9735bd355ed"
      },
      "execution_count": 10,
      "outputs": [
        {
          "output_type": "stream",
          "name": "stdout",
          "text": [
            "Hlo ol!\n"
          ]
        }
      ]
    },
    {
      "cell_type": "markdown",
      "source": [
        "This returns every second character from the original string.\n",
        "\n",
        "Reverse the string using step:"
      ],
      "metadata": {
        "id": "uAkNwAYNnvwz"
      }
    },
    {
      "cell_type": "code",
      "source": [
        "s = \"Hello, World!\"\n",
        "print(s[::-1])\n"
      ],
      "metadata": {
        "colab": {
          "base_uri": "https://localhost:8080/"
        },
        "id": "YgzfF1D6n9vo",
        "outputId": "9d379f82-7e88-4d80-a274-e8ab5a6ddb9e"
      },
      "execution_count": 11,
      "outputs": [
        {
          "output_type": "stream",
          "name": "stdout",
          "text": [
            "!dlroW ,olleH\n"
          ]
        }
      ]
    },
    {
      "cell_type": "markdown",
      "source": [
        "Using -1 as the step reverses the string.\n",
        "\n",
        "5.Combining Positive and Negative Indices: You can combine positive and negative indices in slicing:\n",
        "Examples:\n",
        "\n",
        "\n"
      ],
      "metadata": {
        "id": "M-0CqAC7oUmZ"
      }
    },
    {
      "cell_type": "code",
      "source": [
        "s = \"Hello, World!\"\n",
        "print(s[1:-1])\n"
      ],
      "metadata": {
        "colab": {
          "base_uri": "https://localhost:8080/"
        },
        "id": "KTHRnHEtoqQY",
        "outputId": "3a823024-cfa4-413a-ca5c-b2253a72de63"
      },
      "execution_count": 12,
      "outputs": [
        {
          "output_type": "stream",
          "name": "stdout",
          "text": [
            "ello, World\n"
          ]
        }
      ]
    },
    {
      "cell_type": "markdown",
      "source": [
        "This extracts the string starting from index 1 and ending one character before the last character.\n",
        "\n",
        "More Complex Examples:\n",
        "\n",
        "1.Extracting Substring from the Middle:"
      ],
      "metadata": {
        "id": "o6LCCkgeo5Gr"
      }
    },
    {
      "cell_type": "code",
      "source": [
        "s = \"Python Programming\"\n",
        "print(s[7:18])\n"
      ],
      "metadata": {
        "colab": {
          "base_uri": "https://localhost:8080/"
        },
        "id": "-2Es5mLjpLsd",
        "outputId": "ac813db1-003a-4ce1-c52d-f3daa0187b1a"
      },
      "execution_count": 13,
      "outputs": [
        {
          "output_type": "stream",
          "name": "stdout",
          "text": [
            "Programming\n"
          ]
        }
      ]
    },
    {
      "cell_type": "markdown",
      "source": [
        "2.Extracting Every Third Character:\n",
        "\n"
      ],
      "metadata": {
        "id": "VLMWRpQ7pTQp"
      }
    },
    {
      "cell_type": "code",
      "source": [
        "s = \"abcdefghijklmnop\"\n",
        "print(s[::3])\n"
      ],
      "metadata": {
        "colab": {
          "base_uri": "https://localhost:8080/"
        },
        "id": "VtQlRc4jpfXy",
        "outputId": "7b2c0ff6-07ae-4453-c2f3-44a69b40eb18"
      },
      "execution_count": 14,
      "outputs": [
        {
          "output_type": "stream",
          "name": "stdout",
          "text": [
            "adgjmp\n"
          ]
        }
      ]
    },
    {
      "cell_type": "markdown",
      "source": [
        "3.Skipping Characters in Reverse Order:\n"
      ],
      "metadata": {
        "id": "47ydDjqapqWb"
      }
    },
    {
      "cell_type": "code",
      "source": [
        "s = \"123456789\"\n",
        "print(s[::-2])\n"
      ],
      "metadata": {
        "colab": {
          "base_uri": "https://localhost:8080/"
        },
        "id": "eRAvNbKSpxmV",
        "outputId": "e9c015fd-5712-481a-c850-5531d1a78411"
      },
      "execution_count": 15,
      "outputs": [
        {
          "output_type": "stream",
          "name": "stdout",
          "text": [
            "97531\n"
          ]
        }
      ]
    },
    {
      "cell_type": "markdown",
      "source": [
        "Key Points:\n",
        "\n",
        "Slicing is zero-based: the first character has an index of 0.\n",
        "The start index is inclusive, and the end index is exclusive.\n",
        "Negative indices start counting from the end of the string.\n",
        "The step argument allows for more control, such as skipping characters or reversing the string.\n",
        "\n",
        "2. Explain the key features of lists in Python.\n",
        "\n",
        "Lists in Python are one of the most versatile and widely used data structures. They are ordered, mutable (modifiable), and can store a collection of items of any data type, including integers, floats, strings, and even other lists. Here's a breakdown of the key features of lists in Python:\n",
        "\n",
        "1. Ordered Collection\n",
        "Lists maintain the order of elements as they are inserted. Each element has an assigned index that starts at 0 (zero-based indexing). This means that if you insert elements in a specific order, they will remain in that order unless explicitly changed.\n",
        "\n",
        "Example:\n",
        "\n"
      ],
      "metadata": {
        "id": "_ZDeWNVTqA8M"
      }
    },
    {
      "cell_type": "code",
      "source": [
        "fruits = [\"apple\", \"banana\", \"cherry\"]\n",
        "print(fruits[0])\n"
      ],
      "metadata": {
        "colab": {
          "base_uri": "https://localhost:8080/"
        },
        "id": "w8dZoKhWrNte",
        "outputId": "1904d3d1-19e2-47b4-d787-a49d510ba84b"
      },
      "execution_count": 16,
      "outputs": [
        {
          "output_type": "stream",
          "name": "stdout",
          "text": [
            "apple\n"
          ]
        }
      ]
    },
    {
      "cell_type": "markdown",
      "source": [
        "2. Mutable\n",
        "Lists are mutable, meaning you can modify elements within a list after it has been created. This includes adding, removing, and updating elements.\n",
        "\n",
        "Example (Modifying an element):"
      ],
      "metadata": {
        "id": "aYB_zAcnrVKX"
      }
    },
    {
      "cell_type": "code",
      "source": [
        "fruits = [\"apple\", \"banana\", \"cherry\"]\n",
        "fruits[1] = \"orange\"\n",
        "print(fruits)\n"
      ],
      "metadata": {
        "colab": {
          "base_uri": "https://localhost:8080/"
        },
        "id": "SS0KAWpAre0h",
        "outputId": "f58c19e8-a112-445d-a72a-24ccc3f25232"
      },
      "execution_count": 17,
      "outputs": [
        {
          "output_type": "stream",
          "name": "stdout",
          "text": [
            "['apple', 'orange', 'cherry']\n"
          ]
        }
      ]
    },
    {
      "cell_type": "markdown",
      "source": [
        "Example (Adding an element):"
      ],
      "metadata": {
        "id": "h4zT2NmXrtsJ"
      }
    },
    {
      "cell_type": "code",
      "source": [
        "fruits = [\"apple\", \"banana\", \"cherry\"]\n",
        "fruits.append(\"grape\")\n",
        "print(fruits)\n"
      ],
      "metadata": {
        "colab": {
          "base_uri": "https://localhost:8080/"
        },
        "id": "bmyHAQcZru7N",
        "outputId": "aa0b194a-5cf0-43af-a7c4-18e4f8e66434"
      },
      "execution_count": 18,
      "outputs": [
        {
          "output_type": "stream",
          "name": "stdout",
          "text": [
            "['apple', 'banana', 'cherry', 'grape']\n"
          ]
        }
      ]
    },
    {
      "cell_type": "markdown",
      "source": [
        "Example (Removing an element):"
      ],
      "metadata": {
        "id": "GCz-D6mcr5nv"
      }
    },
    {
      "cell_type": "code",
      "source": [
        "fruits = [\"apple\", \"banana\", \"cherry\"]\n",
        "fruits.remove(\"banana\")\n",
        "print(fruits)\n"
      ],
      "metadata": {
        "colab": {
          "base_uri": "https://localhost:8080/"
        },
        "id": "DFsPZy9TsAIa",
        "outputId": "866831a4-ba8b-4d21-ff89-09fd84f96acc"
      },
      "execution_count": 19,
      "outputs": [
        {
          "output_type": "stream",
          "name": "stdout",
          "text": [
            "['apple', 'cherry']\n"
          ]
        }
      ]
    },
    {
      "cell_type": "markdown",
      "source": [
        "3. Can Contain Different Data Types\n",
        "\n",
        "A list can store elements of different data types, including integers, floats, strings, and even other lists. This makes them highly flexible for storing various kinds of data.\n",
        "\n",
        "Example:"
      ],
      "metadata": {
        "id": "WN--JvcqsL_F"
      }
    },
    {
      "cell_type": "code",
      "source": [
        "my_list = [1, \"apple\", 3.14, [10, 20, 30]]\n",
        "print(my_list)\n"
      ],
      "metadata": {
        "colab": {
          "base_uri": "https://localhost:8080/"
        },
        "id": "baw8OWf7sRJT",
        "outputId": "9aa2b994-bc18-437e-8cf0-45d0ab12d276"
      },
      "execution_count": 20,
      "outputs": [
        {
          "output_type": "stream",
          "name": "stdout",
          "text": [
            "[1, 'apple', 3.14, [10, 20, 30]]\n"
          ]
        }
      ]
    },
    {
      "cell_type": "markdown",
      "source": [
        "4. Dynamic Size\n",
        "\n",
        "Unlike arrays in some other programming languages, lists in Python are dynamic. You can add or remove elements, and Python automatically adjusts the size of the list in memory.\n",
        "\n",
        "Example:"
      ],
      "metadata": {
        "id": "3IQF-g-bsdLY"
      }
    },
    {
      "cell_type": "code",
      "source": [
        "numbers = [1, 2, 3]\n",
        "numbers.append(4)\n",
        "numbers.pop()\n",
        "print(numbers)\n"
      ],
      "metadata": {
        "colab": {
          "base_uri": "https://localhost:8080/"
        },
        "id": "ipjD_GmjsgIL",
        "outputId": "2efa1689-81b8-440b-af76-dac63a6314fb"
      },
      "execution_count": 21,
      "outputs": [
        {
          "output_type": "stream",
          "name": "stdout",
          "text": [
            "[1, 2, 3]\n"
          ]
        }
      ]
    },
    {
      "cell_type": "markdown",
      "source": [
        "5. Supports List Comprehensions\n",
        "\n",
        "Python lists support list comprehensions, which provide a concise way to create lists. List comprehensions can include conditions and transformations.\n",
        "\n",
        "Example:"
      ],
      "metadata": {
        "id": "ksecI0hTs3n7"
      }
    },
    {
      "cell_type": "code",
      "source": [
        "squares = [x**2 for x in range(5)]\n",
        "print(squares)\n"
      ],
      "metadata": {
        "colab": {
          "base_uri": "https://localhost:8080/"
        },
        "id": "hkwvIJ79s8Ug",
        "outputId": "26ff94ec-b72c-4d66-c18b-eadc6cf000e0"
      },
      "execution_count": 22,
      "outputs": [
        {
          "output_type": "stream",
          "name": "stdout",
          "text": [
            "[0, 1, 4, 9, 16]\n"
          ]
        }
      ]
    },
    {
      "cell_type": "markdown",
      "source": [
        "6. Can Be Nested\n",
        "\n",
        "Lists can contain other lists as elements. This allows you to create multi-dimensional lists (e.g., matrices or grids).\n",
        "\n",
        "Example:"
      ],
      "metadata": {
        "id": "_u1o0Fr2tGtk"
      }
    },
    {
      "cell_type": "code",
      "source": [
        "matrix = [[1, 2, 3], [4, 5, 6], [7, 8, 9]]\n",
        "print(matrix[1][2])\n"
      ],
      "metadata": {
        "colab": {
          "base_uri": "https://localhost:8080/"
        },
        "id": "s7s4l3UitPsc",
        "outputId": "7033a774-d4a3-4649-d804-0a87496a21ed"
      },
      "execution_count": 23,
      "outputs": [
        {
          "output_type": "stream",
          "name": "stdout",
          "text": [
            "6\n"
          ]
        }
      ]
    },
    {
      "cell_type": "markdown",
      "source": [
        "7. Indexing and Slicing\n",
        "\n",
        "Lists allow indexing to access specific elements, and slicing to extract a subset of elements. Indexing uses zero-based numbering, and slicing uses the start:end:step syntax.\n",
        "\n",
        "Example (Indexing):"
      ],
      "metadata": {
        "id": "gTfc2qFGteLr"
      }
    },
    {
      "cell_type": "code",
      "source": [
        "numbers = [10, 20, 30, 40]\n",
        "print(numbers[2])\n"
      ],
      "metadata": {
        "colab": {
          "base_uri": "https://localhost:8080/"
        },
        "id": "re1w-vyrtha8",
        "outputId": "e63a19d7-4e1b-4a52-8f37-f5d9d494e5f2"
      },
      "execution_count": 24,
      "outputs": [
        {
          "output_type": "stream",
          "name": "stdout",
          "text": [
            "30\n"
          ]
        }
      ]
    },
    {
      "cell_type": "markdown",
      "source": [
        "Example (Slicing):"
      ],
      "metadata": {
        "id": "pYUdEb4Tts6o"
      }
    },
    {
      "cell_type": "code",
      "source": [
        "numbers = [10, 20, 30, 40, 50]\n",
        "print(numbers[1:4])\n"
      ],
      "metadata": {
        "colab": {
          "base_uri": "https://localhost:8080/"
        },
        "id": "GmNvQtYQtt7n",
        "outputId": "8ac50cfb-9151-494d-8f5c-d32be6b56d3c"
      },
      "execution_count": 25,
      "outputs": [
        {
          "output_type": "stream",
          "name": "stdout",
          "text": [
            "[20, 30, 40]\n"
          ]
        }
      ]
    },
    {
      "cell_type": "markdown",
      "source": [
        "8. Built-in Methods\n",
        "\n",
        "Python lists come with several built-in methods for adding, removing, and modifying elements. Some commonly used methods include:\n",
        "\n",
        "append(): Adds an element to the end of the list.\n",
        "extend(): Extends the list by appending all elements from another list.\n",
        "insert(): Inserts an element at a specific index.\n",
        "remove(): Removes the first occurrence of a specified element.\n",
        "pop(): Removes and returns the element at a specific index (or the last element by default).\n",
        "sort(): Sorts the list in ascending order (can also sort in descending order with a parameter).\n",
        "reverse(): Reverses the order of the list.\n",
        "\n",
        "Example of Methods:"
      ],
      "metadata": {
        "id": "R_CLHcEXt04O"
      }
    },
    {
      "cell_type": "code",
      "source": [
        "numbers = [3, 1, 4, 1, 5]\n",
        "numbers.sort()\n",
        "print(numbers)\n",
        "\n",
        "numbers.reverse()\n",
        "print(numbers)\n"
      ],
      "metadata": {
        "colab": {
          "base_uri": "https://localhost:8080/"
        },
        "id": "n11B2E4cuBhW",
        "outputId": "271bc3e5-233a-46fc-ee87-67b05b7eb74d"
      },
      "execution_count": 26,
      "outputs": [
        {
          "output_type": "stream",
          "name": "stdout",
          "text": [
            "[1, 1, 3, 4, 5]\n",
            "[5, 4, 3, 1, 1]\n"
          ]
        }
      ]
    },
    {
      "cell_type": "markdown",
      "source": [
        "9. Iteration\n",
        "\n",
        "You can iterate through a list using a for loop to access or modify each element.\n",
        "\n",
        "Example:"
      ],
      "metadata": {
        "id": "VYkUK5mHuJob"
      }
    },
    {
      "cell_type": "code",
      "source": [
        "fruits = [\"apple\", \"banana\", \"cherry\"]\n",
        "for fruit in fruits:\n",
        "    print(fruit)\n",
        "\n"
      ],
      "metadata": {
        "colab": {
          "base_uri": "https://localhost:8080/"
        },
        "id": "x3ngVIg7uSwr",
        "outputId": "c7b4ac96-dec6-45a2-d81c-c1685f97f880"
      },
      "execution_count": 27,
      "outputs": [
        {
          "output_type": "stream",
          "name": "stdout",
          "text": [
            "apple\n",
            "banana\n",
            "cherry\n"
          ]
        }
      ]
    },
    {
      "cell_type": "markdown",
      "source": [
        "10. Concatenation and Repetition\n",
        "\n",
        "Lists can be concatenated (combined) using the + operator, and repeated using the * operator.\n",
        "\n",
        "Example:"
      ],
      "metadata": {
        "id": "r4yfd-v4uoEf"
      }
    },
    {
      "cell_type": "code",
      "source": [
        "list1 = [1, 2, 3]\n",
        "list2 = [4, 5, 6]\n",
        "combined = list1 + list2\n",
        "print(combined)\n",
        "\n",
        "repeated = list1 * 2\n",
        "print(repeated)\n"
      ],
      "metadata": {
        "colab": {
          "base_uri": "https://localhost:8080/"
        },
        "id": "EI0yPj7euq0F",
        "outputId": "ba0825ef-6d5c-450b-9bae-fb52d6257447"
      },
      "execution_count": 28,
      "outputs": [
        {
          "output_type": "stream",
          "name": "stdout",
          "text": [
            "[1, 2, 3, 4, 5, 6]\n",
            "[1, 2, 3, 1, 2, 3]\n"
          ]
        }
      ]
    },
    {
      "cell_type": "markdown",
      "source": [
        "11. Checking Membership\n",
        "\n",
        "You can check whether an element exists in a list using the in keyword.\n",
        "\n",
        "Example:"
      ],
      "metadata": {
        "id": "eC5qX5suu33S"
      }
    },
    {
      "cell_type": "code",
      "source": [
        "fruits = [\"apple\", \"banana\", \"cherry\"]\n",
        "print(\"apple\" in fruits)\n",
        "print(\"grape\" in fruits)\n"
      ],
      "metadata": {
        "colab": {
          "base_uri": "https://localhost:8080/"
        },
        "id": "c6ouLcs7u9EL",
        "outputId": "5e95f9d1-beee-441d-afb4-071a15934a98"
      },
      "execution_count": 29,
      "outputs": [
        {
          "output_type": "stream",
          "name": "stdout",
          "text": [
            "True\n",
            "False\n"
          ]
        }
      ]
    },
    {
      "cell_type": "markdown",
      "source": [
        "Summary of Key Features:\n",
        "\n",
        "Ordered: Elements are stored and accessed in a specific order.\n",
        "\n",
        "Mutable: Lists can be modified (add, remove, update elements).\n",
        "\n",
        "Dynamic: Lists grow and shrink in size as needed.\n",
        "\n",
        "Can contain different data types: Mixed data types are allowed.\n",
        "\n",
        "Supports slicing and indexing: Extract elements or subsets easily.\n",
        "\n",
        "List comprehensions: Allows for creating lists in a concise manner.\n",
        "\n",
        "Supports nesting: Lists can contain other lists.\n",
        "\n",
        "Built-in methods: Useful methods for common operations (sorting, appending, removing, etc.).\n"
      ],
      "metadata": {
        "id": "qhWBjRo8vJdH"
      }
    },
    {
      "cell_type": "markdown",
      "source": [
        "3.Describe how to access,modify and delete elements in a list with examples.\n",
        "\n",
        "In Python, you can access, modify, and delete elements in a list using various techniques, including indexing, slicing, and built-in methods. Below are detailed explanations and examples for each action.\n",
        "\n",
        "1. Accessing Elements in a List\n",
        "You can access elements in a list by their index. Python uses zero-based indexing, which means the first element is at index 0.\n",
        "\n",
        "Accessing a Single Element:"
      ],
      "metadata": {
        "id": "UWoRHbQpviQ_"
      }
    },
    {
      "cell_type": "code",
      "source": [
        "fruits = [\"apple\", \"banana\", \"cherry\", \"date\"]\n",
        "print(fruits[0])\n",
        "print(fruits[2])\n"
      ],
      "metadata": {
        "colab": {
          "base_uri": "https://localhost:8080/"
        },
        "id": "iII22QQTweLJ",
        "outputId": "1fa1d7d3-f240-4a63-ec0d-84efd9565639"
      },
      "execution_count": 30,
      "outputs": [
        {
          "output_type": "stream",
          "name": "stdout",
          "text": [
            "apple\n",
            "cherry\n"
          ]
        }
      ]
    },
    {
      "cell_type": "markdown",
      "source": [
        "Accessing Elements Using Negative Indexing:\n",
        "\n",
        "Negative indexing allows you to access elements from the end of the list. The last element has an index of -1, the second-to-last is -2, and so on."
      ],
      "metadata": {
        "id": "0ZaLw4PywoUA"
      }
    },
    {
      "cell_type": "code",
      "source": [
        "fruits = [\"apple\", \"banana\", \"cherry\", \"date\"]\n",
        "print(fruits[-1])\n",
        "print(fruits[-2])\n"
      ],
      "metadata": {
        "colab": {
          "base_uri": "https://localhost:8080/"
        },
        "id": "1FEB0G0hwsKP",
        "outputId": "7ceb3b7a-e95f-434d-fbbc-d88a5ca66bcd"
      },
      "execution_count": 31,
      "outputs": [
        {
          "output_type": "stream",
          "name": "stdout",
          "text": [
            "date\n",
            "cherry\n"
          ]
        }
      ]
    },
    {
      "cell_type": "markdown",
      "source": [
        "Accessing a Range of Elements (Slicing):\n",
        "\n",
        "You can use slicing to access multiple elements by specifying a range of indices."
      ],
      "metadata": {
        "id": "MFQbmH8iw8m9"
      }
    },
    {
      "cell_type": "code",
      "source": [
        "fruits = [\"apple\", \"banana\", \"cherry\", \"date\", \"elderberry\"]\n",
        "print(fruits[1:4])\n",
        "print(fruits[:3])\n",
        "print(fruits[2:])\n"
      ],
      "metadata": {
        "colab": {
          "base_uri": "https://localhost:8080/"
        },
        "id": "-zQrGjTrw_vt",
        "outputId": "f62bb4ce-cb3b-47cd-fd0e-435a7a6a3b46"
      },
      "execution_count": 32,
      "outputs": [
        {
          "output_type": "stream",
          "name": "stdout",
          "text": [
            "['banana', 'cherry', 'date']\n",
            "['apple', 'banana', 'cherry']\n",
            "['cherry', 'date', 'elderberry']\n"
          ]
        }
      ]
    },
    {
      "cell_type": "markdown",
      "source": [
        "2. Modifying Elements in a List\n",
        "\n",
        "Since lists are mutable, you can change the value of an element at a specific index.\n",
        "\n",
        "Modifying a Single Element:"
      ],
      "metadata": {
        "id": "SowJ8mW1xgnA"
      }
    },
    {
      "cell_type": "code",
      "source": [
        "fruits = [\"apple\", \"banana\", \"cherry\"]\n",
        "fruits[1] = \"orange\"\n",
        "print(fruits)\n"
      ],
      "metadata": {
        "colab": {
          "base_uri": "https://localhost:8080/"
        },
        "id": "JNdvF2Esxq-w",
        "outputId": "e3d4eab8-0a24-4d64-d2ce-9d340f30a580"
      },
      "execution_count": 33,
      "outputs": [
        {
          "output_type": "stream",
          "name": "stdout",
          "text": [
            "['apple', 'orange', 'cherry']\n"
          ]
        }
      ]
    },
    {
      "cell_type": "markdown",
      "source": [
        "Modifying a Range of Elements:\n",
        "\n",
        "We can also modify multiple elements at once by assigning a new list to a slice of the original list."
      ],
      "metadata": {
        "id": "NdQpOmnfx5mG"
      }
    },
    {
      "cell_type": "code",
      "source": [
        "numbers = [1, 2, 3, 4, 5]\n",
        "numbers[1:4] = [20, 30, 40]\n",
        "print(numbers)\n"
      ],
      "metadata": {
        "colab": {
          "base_uri": "https://localhost:8080/"
        },
        "id": "1zW_kv6myCp-",
        "outputId": "1593595c-abe2-4589-fb75-f25ef2f17ba0"
      },
      "execution_count": 34,
      "outputs": [
        {
          "output_type": "stream",
          "name": "stdout",
          "text": [
            "[1, 20, 30, 40, 5]\n"
          ]
        }
      ]
    },
    {
      "cell_type": "markdown",
      "source": [
        "Appending Elements:\n",
        "\n",
        "You can add elements to the end of the list using the append() method."
      ],
      "metadata": {
        "id": "ug0eFaGhyJqX"
      }
    },
    {
      "cell_type": "markdown",
      "source": [],
      "metadata": {
        "id": "pq9QgGjbyRZ9"
      }
    },
    {
      "cell_type": "code",
      "source": [
        "fruits = [\"apple\", \"banana\"]\n",
        "fruits.append(\"cherry\")\n",
        "print(fruits)\n"
      ],
      "metadata": {
        "colab": {
          "base_uri": "https://localhost:8080/"
        },
        "id": "jn57C9WpySGx",
        "outputId": "3c9aad3e-dc0f-4490-f4fc-eb627a5f721c"
      },
      "execution_count": 35,
      "outputs": [
        {
          "output_type": "stream",
          "name": "stdout",
          "text": [
            "['apple', 'banana', 'cherry']\n"
          ]
        }
      ]
    },
    {
      "cell_type": "markdown",
      "source": [
        "Inserting Elements:\n",
        "\n",
        "To insert an element at a specific position, use the insert() method.\n"
      ],
      "metadata": {
        "id": "OsNmS0-jydnu"
      }
    },
    {
      "cell_type": "code",
      "source": [
        "fruits = [\"apple\", \"banana\", \"cherry\"]\n",
        "fruits.insert(1, \"orange\")\n",
        "print(fruits)\n"
      ],
      "metadata": {
        "colab": {
          "base_uri": "https://localhost:8080/"
        },
        "id": "KfTVjt2eyj9H",
        "outputId": "d03b4bb9-1060-43a0-f394-29a2ba3ae576"
      },
      "execution_count": 36,
      "outputs": [
        {
          "output_type": "stream",
          "name": "stdout",
          "text": [
            "['apple', 'orange', 'banana', 'cherry']\n"
          ]
        }
      ]
    },
    {
      "cell_type": "markdown",
      "source": [
        "3. Deleting Elements from a List\n",
        "\n",
        "You can remove elements from a list in several ways, including using the del statement, pop(), and remove().\n",
        "\n",
        "Deleting an Element by Index (Using del):\n",
        "The del keyword allows you to delete an element at a specific index."
      ],
      "metadata": {
        "id": "boodu_oyytIs"
      }
    },
    {
      "cell_type": "code",
      "source": [
        "fruits = [\"apple\", \"banana\", \"cherry\", \"date\"]\n",
        "del fruits[1]\n",
        "print(fruits)\n"
      ],
      "metadata": {
        "colab": {
          "base_uri": "https://localhost:8080/"
        },
        "id": "APqn9SxMy01I",
        "outputId": "abdb4b45-3c82-4a09-bb17-c8368f7af1e3"
      },
      "execution_count": 37,
      "outputs": [
        {
          "output_type": "stream",
          "name": "stdout",
          "text": [
            "['apple', 'cherry', 'date']\n"
          ]
        }
      ]
    },
    {
      "cell_type": "markdown",
      "source": [
        "Deleting a Range of Elements (Using del with Slicing):\n",
        "\n",
        "You can delete multiple elements by using slicing with the del keyword."
      ],
      "metadata": {
        "id": "BZI2zm8ay96R"
      }
    },
    {
      "cell_type": "code",
      "source": [
        "fruits = [\"apple\", \"banana\", \"cherry\", \"date\", \"elderberry\"]\n",
        "del fruits[1:3]\n",
        "print(fruits)\n"
      ],
      "metadata": {
        "colab": {
          "base_uri": "https://localhost:8080/"
        },
        "id": "tnZ5_lwDzCEK",
        "outputId": "f0a82b70-8958-4a95-fd23-a360bccbfcc7"
      },
      "execution_count": 38,
      "outputs": [
        {
          "output_type": "stream",
          "name": "stdout",
          "text": [
            "['apple', 'date', 'elderberry']\n"
          ]
        }
      ]
    },
    {
      "cell_type": "markdown",
      "source": [
        "Removing the Last Element (Using pop()):\n",
        "\n",
        "The pop() method removes and returns the last element of the list. You can also specify an index to remove and return a specific element."
      ],
      "metadata": {
        "id": "T8EUevTczMkz"
      }
    },
    {
      "cell_type": "code",
      "source": [
        "fruits = [\"apple\", \"banana\", \"cherry\"]\n",
        "popped = fruits.pop()\n",
        "print(fruits)\n",
        "print(popped)\n"
      ],
      "metadata": {
        "colab": {
          "base_uri": "https://localhost:8080/"
        },
        "id": "6lJWyzwRzbuY",
        "outputId": "f490b309-047d-4194-deb5-85dbcfde418f"
      },
      "execution_count": 39,
      "outputs": [
        {
          "output_type": "stream",
          "name": "stdout",
          "text": [
            "['apple', 'banana']\n",
            "cherry\n"
          ]
        }
      ]
    },
    {
      "cell_type": "markdown",
      "source": [
        "Removing a Specific Element by Value (Using remove()):\n",
        "\n",
        "The remove() method removes the first occurrence of the specified value."
      ],
      "metadata": {
        "id": "nGA99PjIzidw"
      }
    },
    {
      "cell_type": "code",
      "source": [
        "fruits = [\"apple\", \"banana\", \"cherry\", \"banana\"]\n",
        "fruits.remove(\"banana\")\n",
        "print(fruits)\n"
      ],
      "metadata": {
        "colab": {
          "base_uri": "https://localhost:8080/"
        },
        "id": "_6urmu0OzsUk",
        "outputId": "526da4c0-3608-4708-ea93-6901a70875df"
      },
      "execution_count": 40,
      "outputs": [
        {
          "output_type": "stream",
          "name": "stdout",
          "text": [
            "['apple', 'cherry', 'banana']\n"
          ]
        }
      ]
    },
    {
      "cell_type": "markdown",
      "source": [
        "Clearing All Elements (Using clear()):\n",
        "\n",
        "To remove all elements from a list, use the clear() method."
      ],
      "metadata": {
        "id": "R4MeQGbuz2Se"
      }
    },
    {
      "cell_type": "code",
      "source": [
        "fruits = [\"apple\", \"banana\", \"cherry\"]\n",
        "fruits.clear()\n",
        "print(fruits)\n"
      ],
      "metadata": {
        "colab": {
          "base_uri": "https://localhost:8080/"
        },
        "id": "Q3w38eTXz8nH",
        "outputId": "fcf4e87f-293d-4d2e-f30b-a34da2afe49d"
      },
      "execution_count": 41,
      "outputs": [
        {
          "output_type": "stream",
          "name": "stdout",
          "text": [
            "[]\n"
          ]
        }
      ]
    },
    {
      "cell_type": "markdown",
      "source": [
        "Summary of Methods for Accessing, Modifying, and Deleting List Elements:\n",
        "\n",
        "Accessing: Use indexing (list[index]), slicing (list[start:end]), or negative indexing (list[-index]).\n",
        "\n",
        "Modifying: Assign new values to specific indices (list[index] = new_value), append elements with append(), insert elements with insert(), or modify slices (list[start:end] = [new_values]).\n",
        "\n",
        "Deleting: Use del to delete by index, pop() to remove and return elements, remove() to delete by value, and clear() to empty the entire list."
      ],
      "metadata": {
        "id": "_CK5N8X70BHG"
      }
    },
    {
      "cell_type": "markdown",
      "source": [
        "4.Compare and contrast tuples and lists with examples.\n",
        "\n",
        "Comparison Between Tuples and Lists in Python\n",
        "Tuples and Lists are both sequence data types in Python, which means they store multiple items in an ordered manner. However, they have significant differences in terms of mutability, syntax, and use cases.\n",
        "\n",
        "Feature\tTuples\tLists\n",
        "Syntax:\tDefined using parentheses (),\tDefined using square brackets []\n",
        "\n",
        "Mutability\t:Immutable (cannot be changed after creation),\tMutable (can be changed after creation)\n",
        "\n",
        "Size Flexibility\t:Fixed size once defined,\tSize can grow or shrink\n",
        "\n",
        "Performance:\tFaster due to immutability (less overhead),\tSlower due to mutability (more overhead)\n",
        "\n",
        "Use Cases:\tSuitable for read-only or fixed collections,\tSuitable for dynamic collections\n",
        "\n",
        "Methods:\tLimited methods (count(), index()),\tExtensive methods (e.g., append(), remove(), sort(), etc.)\n",
        "\n",
        "Hashability:\tCan be used as dictionary keys if all elements are hashable\t,Cannot be used as dictionary keys because lists are mutable\n",
        "\n",
        "Parentheses vs. Brackets:\tCreated with (),\tCreated with []\n",
        "\n",
        "1. Syntax\n",
        "\n",
        "Tuple Example:\n",
        "\n",
        "\n",
        "\n"
      ],
      "metadata": {
        "id": "eyew7kfg0SHf"
      }
    },
    {
      "cell_type": "code",
      "source": [
        "my_tuple = (1, 2, 3)\n"
      ],
      "metadata": {
        "id": "7Ks0MJ-n4VbG"
      },
      "execution_count": null,
      "outputs": []
    },
    {
      "cell_type": "markdown",
      "source": [
        "List Example:"
      ],
      "metadata": {
        "id": "eQOWQqub4g0I"
      }
    },
    {
      "cell_type": "code",
      "source": [
        "my_list = [1, 2, 3]\n"
      ],
      "metadata": {
        "id": "YOLT4omY4jdA"
      },
      "execution_count": null,
      "outputs": []
    },
    {
      "cell_type": "markdown",
      "source": [
        "Tuple: Elements are enclosed in parentheses ().\n",
        "\n",
        "List: Elements are enclosed in square brackets [].\n",
        "\n",
        "2. Mutability\n",
        "\n",
        "Tuples are immutable: You cannot change, add, or remove elements once the tuple is created.\n",
        "\n",
        "Lists are mutable: You can modify, add, or remove elements in a list.\n",
        "\n",
        "Example of Tuple Immutability:"
      ],
      "metadata": {
        "id": "7OqFjYXC4oNG"
      }
    },
    {
      "cell_type": "code",
      "source": [
        "my_tuple = (1, 2, 3)\n",
        "# my_tuple[1] = 4  # This will raise a TypeError: 'tuple' object does not support item assignment\n"
      ],
      "metadata": {
        "id": "JlmRURwk45j7"
      },
      "execution_count": null,
      "outputs": []
    },
    {
      "cell_type": "markdown",
      "source": [
        "Example of List Mutability:"
      ],
      "metadata": {
        "id": "VauJJeeG5GeI"
      }
    },
    {
      "cell_type": "code",
      "source": [
        "my_list = [1, 2, 3]\n",
        "my_list[1] = 4\n",
        "print(my_list)\n"
      ],
      "metadata": {
        "colab": {
          "base_uri": "https://localhost:8080/"
        },
        "id": "94qoZGNI5H4Q",
        "outputId": "e7283345-0634-4186-86e1-f33ba7f01c36"
      },
      "execution_count": 42,
      "outputs": [
        {
          "output_type": "stream",
          "name": "stdout",
          "text": [
            "[1, 4, 3]\n"
          ]
        }
      ]
    },
    {
      "cell_type": "markdown",
      "source": [
        "3. Size Flexibility\n",
        "\n",
        "Tuples have a fixed size: You cannot change the number of elements after the tuple is created.\n",
        "\n",
        "Lists have dynamic size: You can add or remove elements at any time.\n",
        "\n",
        "List Example (Adding Elements):"
      ],
      "metadata": {
        "id": "qnrvuTBL5ZXQ"
      }
    },
    {
      "cell_type": "code",
      "source": [
        "my_list = [1, 2, 3]\n",
        "my_list.append(4)\n",
        "print(my_list)\n"
      ],
      "metadata": {
        "colab": {
          "base_uri": "https://localhost:8080/"
        },
        "id": "WjVcBfeg5fqa",
        "outputId": "d48a58f3-4287-464b-db84-bcf6ce534ffa"
      },
      "execution_count": 43,
      "outputs": [
        {
          "output_type": "stream",
          "name": "stdout",
          "text": [
            "[1, 2, 3, 4]\n"
          ]
        }
      ]
    },
    {
      "cell_type": "markdown",
      "source": [
        "4. Performance\n",
        "\n",
        "Tuples are faster than lists due to their immutability. They have less overhead since they do not require the extra flexibility of modifying the size or contents.\n",
        "\n",
        "Lists are slower because they are mutable, and Python needs to allow for changes to the size and contents.\n",
        "\n",
        "Use tuples when you need a lightweight, static collection of elements, especially in performance-critical code.\n",
        "\n",
        "5. Use Cases\n",
        "\n",
        "Tuples: Preferred when dealing with fixed collections of data. They are often used for grouping related pieces of information (like a record in a database) and for returning multiple values from a function.\n",
        "\n",
        "Example Use Case for Tuples:\n"
      ],
      "metadata": {
        "id": "s0apvZAr52qF"
      }
    },
    {
      "cell_type": "code",
      "source": [
        "coordinates = (34.0522, -118.2437)\n"
      ],
      "metadata": {
        "id": "_weeUI8g6JLZ"
      },
      "execution_count": null,
      "outputs": []
    },
    {
      "cell_type": "markdown",
      "source": [
        "Lists: Preferred when you need a dynamic collection of elements that may grow, shrink, or be modified. Lists are great for storing collections of items that you plan to change or iterate through.\n",
        "\n",
        "Example Use Case for Lists:"
      ],
      "metadata": {
        "id": "HbKvYsyC6QuI"
      }
    },
    {
      "cell_type": "code",
      "source": [
        "shopping_list = [\"milk\", \"eggs\", \"bread\"]\n",
        "shopping_list.append(\"butter\")  # List can grow as items are added\n"
      ],
      "metadata": {
        "id": "QttUp0Ip6VN9"
      },
      "execution_count": null,
      "outputs": []
    },
    {
      "cell_type": "markdown",
      "source": [
        "6. Methods Available\n",
        "\n",
        "Tuples: Being immutable, tuples have fewer methods. Only count() and index() methods are available."
      ],
      "metadata": {
        "id": "WfyNTo2l6b_0"
      }
    },
    {
      "cell_type": "code",
      "source": [
        "my_tuple = (1, 2, 3, 1)\n",
        "print(my_tuple.count(1))\n",
        "print(my_tuple.index(2))\n"
      ],
      "metadata": {
        "colab": {
          "base_uri": "https://localhost:8080/"
        },
        "id": "-idrRI_h6gXw",
        "outputId": "ddcc04e5-4f84-4f9f-ab6a-152d1a10d9b9"
      },
      "execution_count": 44,
      "outputs": [
        {
          "output_type": "stream",
          "name": "stdout",
          "text": [
            "2\n",
            "1\n"
          ]
        }
      ]
    },
    {
      "cell_type": "markdown",
      "source": [
        "Lists: Lists have a wide range of methods, such as append(), remove(), pop(), sort(), reverse(), etc., because they are mutable."
      ],
      "metadata": {
        "id": "ZuOY9jmf6tFO"
      }
    },
    {
      "cell_type": "code",
      "source": [
        "my_list = [3, 1, 2]\n",
        "my_list.sort()  # Sort the list\n",
        "print(my_list)  # Output: [1, 2, 3]\n",
        "\n",
        "my_list.remove(2)  # Removes the first occurrence of 2\n",
        "print(my_list)  # Output: [1, 3]\n"
      ],
      "metadata": {
        "colab": {
          "base_uri": "https://localhost:8080/"
        },
        "id": "1bV3Asp-6xTp",
        "outputId": "3bff1175-b41c-42e7-e9eb-bdc9e8b7ea61"
      },
      "execution_count": 45,
      "outputs": [
        {
          "output_type": "stream",
          "name": "stdout",
          "text": [
            "[1, 2, 3]\n",
            "[1, 3]\n"
          ]
        }
      ]
    },
    {
      "cell_type": "markdown",
      "source": [
        "7. Hashability\n",
        "\n",
        "Tuples are hashable (as long as all their elements are hashable), meaning they can be used as keys in a dictionary.\n",
        "\n",
        "Lists are not hashable and therefore cannot be used as dictionary keys.\n",
        "Tuple Example (Using as Dictionary Key):"
      ],
      "metadata": {
        "id": "IAqLOGYC69ky"
      }
    },
    {
      "cell_type": "code",
      "source": [
        "my_dict = { (1, 2): \"point\", (3, 4): \"another point\" }\n",
        "print(my_dict[(1, 2)])  # Output: point\n"
      ],
      "metadata": {
        "colab": {
          "base_uri": "https://localhost:8080/"
        },
        "id": "sBEDTMeN7CyU",
        "outputId": "456f2048-edac-4bcd-abfd-de3c3c5ffc5c"
      },
      "execution_count": 46,
      "outputs": [
        {
          "output_type": "stream",
          "name": "stdout",
          "text": [
            "point\n"
          ]
        }
      ]
    },
    {
      "cell_type": "markdown",
      "source": [
        "Key Differences Summarized:\n",
        "\n",
        "Mutability: Tuples are immutable, while lists are mutable.\n",
        "\n",
        "Performance: Tuples are generally faster than lists due to immutability.\n",
        "Methods: Lists have more built-in methods compared to tuples.\n",
        "\n",
        "Size Flexibility: Lists can grow or shrink, while tuples have a fixed size.\n",
        "\n",
        "Use Cases: Tuples are used for fixed collections (e.g., coordinates), while lists are used for dynamic collections (e.g., to-do lists).\n",
        "\n",
        "Both tuples and lists are important data structures in Python, and the choice between them depends on whether you need a mutable or immutable sequence, and how you intend to use the data stored within.\n",
        "\n",
        "5.Describe the key features of sets and provide examples of their use.\n",
        "\n",
        "Key Features of Sets in Python\n",
        "\n",
        "A set in Python is an unordered, mutable collection of unique elements. Unlike lists or tuples, sets do not allow duplicate values, and the order of elements is not maintained.\n",
        "\n",
        "Here are the key features of sets in Python:\n",
        "\n",
        "1. Unordered Collection\n",
        "Sets do not maintain the order of elements. When you print or access the set elements, their order may differ from the order in which you added them.\n",
        "Example:"
      ],
      "metadata": {
        "id": "8yBse1ST7MG7"
      }
    },
    {
      "cell_type": "code",
      "source": [
        "my_set = {3, 1, 4, 2}\n",
        "print(my_set)\n"
      ],
      "metadata": {
        "colab": {
          "base_uri": "https://localhost:8080/"
        },
        "id": "K3CDuasa_aLj",
        "outputId": "b0149d5b-952d-4f3c-dc56-9a2a383f28db"
      },
      "execution_count": 47,
      "outputs": [
        {
          "output_type": "stream",
          "name": "stdout",
          "text": [
            "{1, 2, 3, 4}\n"
          ]
        }
      ]
    },
    {
      "cell_type": "markdown",
      "source": [
        "2. Unique Elements\n",
        "\n",
        "Sets automatically eliminate duplicate elements. If you try to add a duplicate value, it will be ignored.\n",
        "\n",
        "Example:"
      ],
      "metadata": {
        "id": "NOPGOm2X_mbI"
      }
    },
    {
      "cell_type": "code",
      "source": [
        "my_set = {1, 2, 3, 3, 4}\n",
        "print(my_set)  # Output: {1, 2, 3, 4} (duplicates are removed)\n"
      ],
      "metadata": {
        "colab": {
          "base_uri": "https://localhost:8080/"
        },
        "id": "lW93Dcve_sOf",
        "outputId": "3ab34972-d495-40bf-a1e3-519de00e6fb7"
      },
      "execution_count": 48,
      "outputs": [
        {
          "output_type": "stream",
          "name": "stdout",
          "text": [
            "{1, 2, 3, 4}\n"
          ]
        }
      ]
    },
    {
      "cell_type": "markdown",
      "source": [
        "3. Mutable\n",
        "\n",
        "Sets are mutable, meaning you can add or remove elements after the set is created using methods like add(), remove(), etc.\n",
        "\n",
        "Example:"
      ],
      "metadata": {
        "id": "l_FFllFk_zjG"
      }
    },
    {
      "cell_type": "code",
      "source": [
        "my_set = {1, 2, 3}\n",
        "my_set.add(4)\n",
        "print(my_set)\n"
      ],
      "metadata": {
        "colab": {
          "base_uri": "https://localhost:8080/"
        },
        "id": "In0qejH1_5wG",
        "outputId": "269aa078-1170-46a8-a638-de6adf47f821"
      },
      "execution_count": 49,
      "outputs": [
        {
          "output_type": "stream",
          "name": "stdout",
          "text": [
            "{1, 2, 3, 4}\n"
          ]
        }
      ]
    },
    {
      "cell_type": "markdown",
      "source": [
        "4. Unindexed\n",
        "\n",
        "You cannot access elements in a set using an index or slice because sets are unordered. If you need to access items, you have to iterate through the set.\n",
        "\n",
        "Example:"
      ],
      "metadata": {
        "id": "yYXeNJgzAFbq"
      }
    },
    {
      "cell_type": "code",
      "source": [
        "my_set = {1, 2, 3}\n",
        "for item in my_set:\n",
        "    print(item)  # Outputs each item in an arbitrary order\n"
      ],
      "metadata": {
        "colab": {
          "base_uri": "https://localhost:8080/"
        },
        "id": "-NhtGX_NAKl2",
        "outputId": "73c68aad-f1cc-4029-f8ad-9eed5f7ba025"
      },
      "execution_count": 50,
      "outputs": [
        {
          "output_type": "stream",
          "name": "stdout",
          "text": [
            "1\n",
            "2\n",
            "3\n"
          ]
        }
      ]
    },
    {
      "cell_type": "markdown",
      "source": [
        "5. No Duplicates\n",
        "\n",
        "The primary use case for sets is when you need to ensure there are no duplicate items in a collection.\n",
        "\n",
        "6. Set Operations\n",
        "\n",
        "Sets support mathematical set operations like union, intersection, difference, and symmetric difference. These operations are efficient and commonly used.\n",
        "\n",
        "Example of Set Operations:"
      ],
      "metadata": {
        "id": "XfR_i3DpATvw"
      }
    },
    {
      "cell_type": "code",
      "source": [
        "set_a = {1, 2, 3}\n",
        "set_b = {3, 4, 5}\n",
        "\n",
        "# Union (elements in either set)\n",
        "print(set_a | set_b)  # Output: {1, 2, 3, 4, 5}\n",
        "\n",
        "# Intersection (elements in both sets)\n",
        "print(set_a & set_b)  # Output: {3}\n",
        "\n",
        "# Difference (elements in set_a but not in set_b)\n",
        "print(set_a - set_b)  # Output: {1, 2}\n",
        "\n",
        "# Symmetric Difference (elements in either set_a or set_b but not in both)\n",
        "print(set_a ^ set_b)  # Output: {1, 2, 4, 5}\n"
      ],
      "metadata": {
        "colab": {
          "base_uri": "https://localhost:8080/"
        },
        "id": "HeYwZBA9AZql",
        "outputId": "d4009948-9e30-4dcf-e6bd-8858d5fda21a"
      },
      "execution_count": 51,
      "outputs": [
        {
          "output_type": "stream",
          "name": "stdout",
          "text": [
            "{1, 2, 3, 4, 5}\n",
            "{3}\n",
            "{1, 2}\n",
            "{1, 2, 4, 5}\n"
          ]
        }
      ]
    },
    {
      "cell_type": "markdown",
      "source": [
        "7. Set Methods\n",
        "\n",
        "Python sets come with several built-in methods for operations like adding, removing, and checking elements. Some common methods are:\n",
        "\n",
        "add(): Adds an element to the set.\n",
        "\n",
        "remove(): Removes a specified element. Raises an error if the element is not found.\n",
        "\n",
        "discard(): Removes a specified element, but does not raise an error if the element is not found.\n",
        "\n",
        "pop(): Removes and returns an arbitrary element from the set. Raises an error if the set is empty.\n",
        "\n",
        "clear(): Removes all elements from the set"
      ],
      "metadata": {
        "id": "w42Pp800Aily"
      }
    },
    {
      "cell_type": "code",
      "source": [
        "my_set = {1, 2, 3}\n",
        "my_set.add(4)           # Add an element\n",
        "print(my_set)           # Output: {1, 2, 3, 4}\n",
        "\n",
        "my_set.remove(2)        # Remove an element\n",
        "print(my_set)           # Output: {1, 3, 4}\n",
        "\n",
        "my_set.discard(5)       # No error if the element is not present\n",
        "print(my_set)           # Output: {1, 3, 4}\n"
      ],
      "metadata": {
        "colab": {
          "base_uri": "https://localhost:8080/"
        },
        "id": "2wDz1vgfAwZV",
        "outputId": "bfd9793c-44b4-4c3e-f934-4a9db838a859"
      },
      "execution_count": 52,
      "outputs": [
        {
          "output_type": "stream",
          "name": "stdout",
          "text": [
            "{1, 2, 3, 4}\n",
            "{1, 3, 4}\n",
            "{1, 3, 4}\n"
          ]
        }
      ]
    },
    {
      "cell_type": "markdown",
      "source": [
        "8. Immutability of Elements\n",
        "\n",
        "While sets themselves are mutable (you can add or remove elements), the elements within a set must be immutable. This means you cannot have lists or other sets as elements of a set, but you can have tuples.\n",
        "\n",
        "Example:"
      ],
      "metadata": {
        "id": "-d3ESYHeAzJz"
      }
    },
    {
      "cell_type": "code",
      "source": [
        "my_set = {(1, 2), (3, 4)}  # Tuples are allowed\n",
        "# my_set = {[1, 2], [3, 4]}  # Lists would raise a TypeError\n"
      ],
      "metadata": {
        "id": "C6ywQzmiA716"
      },
      "execution_count": 53,
      "outputs": []
    },
    {
      "cell_type": "markdown",
      "source": [],
      "metadata": {
        "id": "um_VYLRUnibl"
      }
    },
    {
      "cell_type": "markdown",
      "source": [],
      "metadata": {
        "id": "LJJdRCqblxm4"
      }
    },
    {
      "cell_type": "markdown",
      "source": [
        "Use Cases of Sets:\n",
        "\n",
        "1.Removing Duplicates from a List: If you have a list with duplicate values, you can convert it to a set to automatically remove the duplicates."
      ],
      "metadata": {
        "id": "6s4z8okFBGcc"
      }
    },
    {
      "cell_type": "code",
      "source": [
        "my_list = [1, 2, 2, 3, 4, 4, 5]\n",
        "unique_elements = set(my_list)\n",
        "print(unique_elements)  # Output: {1, 2, 3, 4, 5}\n"
      ],
      "metadata": {
        "colab": {
          "base_uri": "https://localhost:8080/"
        },
        "id": "x8-1Z7ujBLJw",
        "outputId": "ee3d6b99-1ac2-4cd2-813a-8972e63ef877"
      },
      "execution_count": 54,
      "outputs": [
        {
          "output_type": "stream",
          "name": "stdout",
          "text": [
            "{1, 2, 3, 4, 5}\n"
          ]
        }
      ]
    },
    {
      "cell_type": "markdown",
      "source": [
        "2.Checking for Membership: Sets provide fast membership testing. Checking whether an item is in a set is faster than in a list."
      ],
      "metadata": {
        "id": "L04b7tFxBS2N"
      }
    },
    {
      "cell_type": "code",
      "source": [
        "my_set = {1, 2, 3, 4, 5}\n",
        "print(3 in my_set)  # Output: True\n",
        "print(6 in my_set)  # Output: False\n"
      ],
      "metadata": {
        "colab": {
          "base_uri": "https://localhost:8080/"
        },
        "id": "ZaZk709dBY7C",
        "outputId": "780f3cf2-2254-462d-dee7-2505997a5934"
      },
      "execution_count": 55,
      "outputs": [
        {
          "output_type": "stream",
          "name": "stdout",
          "text": [
            "True\n",
            "False\n"
          ]
        }
      ]
    },
    {
      "cell_type": "markdown",
      "source": [
        "3.Mathematical Set Operations: If you need to compute unions, intersections, or differences between collections, sets are ideal because they provide efficient implementations of these operations."
      ],
      "metadata": {
        "id": "zARtQjwCBhWg"
      }
    },
    {
      "cell_type": "code",
      "source": [
        "even_numbers = {2, 4, 6, 8}\n",
        "prime_numbers = {2, 3, 5, 7}\n",
        "\n",
        "print(even_numbers & prime_numbers)  # Output: {2} (Intersection)\n"
      ],
      "metadata": {
        "colab": {
          "base_uri": "https://localhost:8080/"
        },
        "id": "0v13v2MmBplw",
        "outputId": "f074bdfd-2cc8-47c9-8fe1-43f9fe68d40e"
      },
      "execution_count": 56,
      "outputs": [
        {
          "output_type": "stream",
          "name": "stdout",
          "text": [
            "{2}\n"
          ]
        }
      ]
    },
    {
      "cell_type": "markdown",
      "source": [
        "Summary of Key Features:\n",
        "\n",
        "Unordered and Unindexed: No order or position-based access.\n",
        "\n",
        "Unique Elements: Does not allow duplicates.\n",
        "\n",
        "Mutable: You can add or remove elements, but the elements must be immutable.\n",
        "\n",
        "Set Operations: Supports union, intersection, difference, and symmetric difference operations.\n",
        "\n",
        "Membership Testing: Efficient way to check if an item exists in a set.\n",
        "\n",
        "Sets are powerful when you need to ensure uniqueness, perform set operations, or efficiently test for membership in a collection.\n",
        "\n",
        "6.Discuss the use cases of tuples and sets in python programming.\n",
        "\n",
        "Tuples and sets in Python serve different purposes and are used in various scenarios based on their characteristics. Here’s a discussion of their key use cases:\n",
        "\n",
        "Use Cases of Tuples\n",
        "Immutability:\n",
        "\n",
        "Data Integrity: Tuples are immutable, making them suitable for storing data that should not change throughout the program. This ensures data integrity and prevents accidental modification.\n",
        "Example: Storing coordinates or configuration settings that should remain constant.\n"
      ],
      "metadata": {
        "id": "Cd2aYtV7BxWB"
      }
    },
    {
      "cell_type": "code",
      "source": [
        "coordinates = (40.7128, -74.0060)  # New York City coordinates\n"
      ],
      "metadata": {
        "id": "L34izTskC6c9"
      },
      "execution_count": null,
      "outputs": []
    },
    {
      "cell_type": "markdown",
      "source": [
        "Returning Multiple Values:\n",
        "\n",
        "Function Return Values: Functions can return multiple values in the form of a tuple, making it easier to return related data without creating a custom class or data structure.\n",
        "\n",
        "Example:\n"
      ],
      "metadata": {
        "id": "SCG4IIOBDA2X"
      }
    },
    {
      "cell_type": "code",
      "source": [
        "def get_min_max(numbers):\n",
        "    return (min(numbers), max(numbers))\n",
        "\n",
        "result = get_min_max([1, 2, 3, 4, 5])\n",
        "print(result)  # Output: (1, 5)\n"
      ],
      "metadata": {
        "colab": {
          "base_uri": "https://localhost:8080/"
        },
        "id": "I2pTv1miDENK",
        "outputId": "ea13e4cb-4cdf-45b2-b2d5-5c06e1b330b6"
      },
      "execution_count": 57,
      "outputs": [
        {
          "output_type": "stream",
          "name": "stdout",
          "text": [
            "(1, 5)\n"
          ]
        }
      ]
    },
    {
      "cell_type": "markdown",
      "source": [
        "Unpacking:\n",
        "\n",
        "Easy Variable Assignment: Tuples can be unpacked, allowing for concise assignment of multiple variables in a single line.\n",
        "\n",
        "Example:"
      ],
      "metadata": {
        "id": "1vaPcgCKDWVy"
      }
    },
    {
      "cell_type": "code",
      "source": [
        "person = (\"Alice\", 30)\n",
        "name, age = person\n",
        "print(name)  # Output: Alice\n"
      ],
      "metadata": {
        "colab": {
          "base_uri": "https://localhost:8080/"
        },
        "id": "V3pFr351DgsZ",
        "outputId": "052f2c38-40d1-4d03-92f1-fa9726f19fa3"
      },
      "execution_count": 58,
      "outputs": [
        {
          "output_type": "stream",
          "name": "stdout",
          "text": [
            "Alice\n"
          ]
        }
      ]
    },
    {
      "cell_type": "markdown",
      "source": [
        "Dictionary Keys:\n",
        "\n",
        "Hashability: Because tuples are immutable, they can be used as keys in dictionaries, unlike lists. This is useful when you need to map complex keys to values.\n",
        "\n",
        "Example:"
      ],
      "metadata": {
        "id": "V1Mv3UYdDooB"
      }
    },
    {
      "cell_type": "code",
      "source": [
        "location_data = {}\n",
        "location_data[(40.7128, -74.0060)] = \"New York City\"\n",
        "location_data[(34.0522, -118.2437)] = \"Los Angeles\"\n"
      ],
      "metadata": {
        "id": "W5FKjoK8DuY7"
      },
      "execution_count": null,
      "outputs": []
    },
    {
      "cell_type": "markdown",
      "source": [
        "Fixed Size:\n",
        "\n",
        "Fixed Structure: When you need a collection of items of a fixed size and type, tuples can provide clarity and intent, making your code easier to understand.\n",
        "\n",
        "Example:"
      ],
      "metadata": {
        "id": "JvzksgrQD5FG"
      }
    },
    {
      "cell_type": "code",
      "source": [
        "color_rgb = (255, 0, 0)  # Represents the color red in RGB format\n"
      ],
      "metadata": {
        "id": "XQrhZbXSD9zj"
      },
      "execution_count": null,
      "outputs": []
    },
    {
      "cell_type": "markdown",
      "source": [
        "Use Cases of Sets\n",
        "\n",
        "Uniqueness:\n",
        "\n",
        "Removing Duplicates: Sets automatically eliminate duplicate values, making them ideal for storing collections of unique items. This is useful when processing data where duplicates may exist.\n",
        "\n",
        "Example:\n"
      ],
      "metadata": {
        "id": "ukInbMCLEJSy"
      }
    },
    {
      "cell_type": "code",
      "source": [
        "raw_data = [1, 2, 2, 3, 4, 4, 5]\n",
        "unique_data = set(raw_data)\n",
        "print(unique_data)  # Output: {1, 2, 3, 4, 5}\n"
      ],
      "metadata": {
        "colab": {
          "base_uri": "https://localhost:8080/"
        },
        "id": "F3uFyDRGElZs",
        "outputId": "1cffa9ba-8b18-4fdf-8684-5e9093f5eb88"
      },
      "execution_count": 59,
      "outputs": [
        {
          "output_type": "stream",
          "name": "stdout",
          "text": [
            "{1, 2, 3, 4, 5}\n"
          ]
        }
      ]
    },
    {
      "cell_type": "markdown",
      "source": [
        "Membership Testing:\n",
        "\n",
        "Fast Lookups: Sets provide average O(1) time complexity for membership tests. This is significantly faster than lists, especially for large collections.\n",
        "\n",
        "Example:"
      ],
      "metadata": {
        "id": "lryYIp02Ex4X"
      }
    },
    {
      "cell_type": "code",
      "source": [
        "allowed_values = {1, 2, 3, 4, 5}\n",
        "print(3 in allowed_values)  # Output: True\n"
      ],
      "metadata": {
        "colab": {
          "base_uri": "https://localhost:8080/"
        },
        "id": "SLDeqnLOE2au",
        "outputId": "ea12c42b-efa1-40ea-cc38-6cece5da9483"
      },
      "execution_count": 60,
      "outputs": [
        {
          "output_type": "stream",
          "name": "stdout",
          "text": [
            "True\n"
          ]
        }
      ]
    },
    {
      "cell_type": "markdown",
      "source": [
        "Set Operations:\n",
        "\n",
        "Mathematical Operations: Sets support union, intersection, difference, and symmetric difference operations, which are useful for combining or comparing collections of items.\n",
        "\n",
        "Example:"
      ],
      "metadata": {
        "id": "1AcBiaWmFBgZ"
      }
    },
    {
      "cell_type": "code",
      "source": [
        "set_a = {1, 2, 3}\n",
        "set_b = {3, 4, 5}\n",
        "print(set_a | set_b)  # Union: Output: {1, 2, 3, 4, 5}\n",
        "print(set_a & set_b)  # Intersection: Output: {3}\n"
      ],
      "metadata": {
        "colab": {
          "base_uri": "https://localhost:8080/"
        },
        "id": "hmudmWReFHNf",
        "outputId": "be11506b-aa70-4f7f-b5e5-060c49fbd888"
      },
      "execution_count": 61,
      "outputs": [
        {
          "output_type": "stream",
          "name": "stdout",
          "text": [
            "{1, 2, 3, 4, 5}\n",
            "{3}\n"
          ]
        }
      ]
    },
    {
      "cell_type": "markdown",
      "source": [
        "Data Analysis:\n",
        "\n",
        "Data Filtering: Sets can be used to filter out items from a list by checking for presence in a set, making data analysis tasks more efficient.\n",
        "\n",
        "Example:"
      ],
      "metadata": {
        "id": "TmhCwrf0FQ1k"
      }
    },
    {
      "cell_type": "code",
      "source": [
        "data = [1, 2, 3, 4, 5, 6]\n",
        "exclude = {2, 4, 6}\n",
        "filtered_data = [x for x in data if x not in exclude]\n",
        "print(filtered_data)  # Output: [1, 3, 5]\n"
      ],
      "metadata": {
        "colab": {
          "base_uri": "https://localhost:8080/"
        },
        "id": "DkstqBXZFUJ4",
        "outputId": "e50fd7d0-8eaa-4642-8940-d98130dc3b46"
      },
      "execution_count": 62,
      "outputs": [
        {
          "output_type": "stream",
          "name": "stdout",
          "text": [
            "[1, 3, 5]\n"
          ]
        }
      ]
    },
    {
      "cell_type": "markdown",
      "source": [
        "Implementing Mathematical Sets:\n",
        "\n",
        "Simulating Set Theory: Sets can represent mathematical sets, allowing you to implement algorithms or functions that involve set theory concepts like unions, intersections, or differences.\n",
        "\n",
        "Example\n"
      ],
      "metadata": {
        "id": "Mkm0_3RKFchw"
      }
    },
    {
      "cell_type": "code",
      "source": [
        "set_a = {1, 2, 3, 4}\n",
        "set_b = {3, 4, 5, 6}\n",
        "print(set_a - set_b)  # Difference: Output: {1, 2}\n"
      ],
      "metadata": {
        "colab": {
          "base_uri": "https://localhost:8080/"
        },
        "id": "Uc2A9xDCFiNx",
        "outputId": "1a9a57da-b257-4d3d-cad2-4272c99efe69"
      },
      "execution_count": 63,
      "outputs": [
        {
          "output_type": "stream",
          "name": "stdout",
          "text": [
            "{1, 2}\n"
          ]
        }
      ]
    },
    {
      "cell_type": "markdown",
      "source": [
        "Summary of Use Cases\n",
        "\n",
        "Tuples are best used when you need an immutable, ordered collection of items. They are suitable for situations where the data should not change, such as configuration settings, returning multiple values from functions, or serving as dictionary keys.\n",
        "\n",
        "Sets are ideal for scenarios that require unique items, fast membership testing, and mathematical operations on collections. They excel in tasks such as removing duplicates, performing set-based data analysis, and filtering items efficiently.\n",
        "\n",
        "Choosing between tuples and sets largely depends on the requirements of your specific use case, including the need for mutability, order, and uniqueness of elements.\n",
        "\n",
        "\n",
        "7.Describe hoe to add, modify and delete items in a dictionary with examples.\n",
        "\n",
        "In Python, a dictionary is a collection of key-value pairs, where each key is unique. You can easily add, modify, and delete items in a dictionary. Here’s how you can perform these operations with examples:\n",
        "\n",
        "Adding Items to a Dictionary\n",
        "You can add a new key-value pair to a dictionary using the assignment operator (=). If the key already exists, it will update the value associated with that key.\n",
        "\n",
        "Example of Adding Items:"
      ],
      "metadata": {
        "id": "P1_QsRLeFnIK"
      }
    },
    {
      "cell_type": "code",
      "source": [
        "# Creating a dictionary\n",
        "my_dict = {\n",
        "    \"name\": \"Alice\",\n",
        "    \"age\": 30\n",
        "}\n",
        "\n",
        "# Adding a new key-value pair\n",
        "my_dict[\"city\"] = \"New York\"\n",
        "print(my_dict)  # Output: {'name': 'Alice', 'age': 30, 'city': 'New York'}\n"
      ],
      "metadata": {
        "colab": {
          "base_uri": "https://localhost:8080/"
        },
        "id": "xmZ4kmcnGMej",
        "outputId": "cefded30-35e6-4deb-d82f-ec6e5c2d964d"
      },
      "execution_count": 64,
      "outputs": [
        {
          "output_type": "stream",
          "name": "stdout",
          "text": [
            "{'name': 'Alice', 'age': 30, 'city': 'New York'}\n"
          ]
        }
      ]
    },
    {
      "cell_type": "markdown",
      "source": [
        "Modifying Items in a Dictionary\n",
        "To modify the value associated with an existing key, simply assign a new value to that key.\n",
        "\n",
        "Example of Modifying Items:"
      ],
      "metadata": {
        "id": "iVbLWiGIGT-o"
      }
    },
    {
      "cell_type": "code",
      "source": [
        "# Modifying an existing key's value\n",
        "my_dict[\"age\"] = 31  # Updating age\n",
        "print(my_dict)  # Output: {'name': 'Alice', 'age': 31, 'city': 'New York'}\n"
      ],
      "metadata": {
        "colab": {
          "base_uri": "https://localhost:8080/"
        },
        "id": "z5mwNkHjGXfj",
        "outputId": "3f24d447-90de-45ed-88ac-9a928b4b6b73"
      },
      "execution_count": 65,
      "outputs": [
        {
          "output_type": "stream",
          "name": "stdout",
          "text": [
            "{'name': 'Alice', 'age': 31, 'city': 'New York'}\n"
          ]
        }
      ]
    },
    {
      "cell_type": "markdown",
      "source": [
        "Deleting Items from a Dictionary\n",
        "\n",
        "You can delete items from a dictionary using the del statement or the pop() method. The del statement removes the item based on its key, while pop() removes the item and returns its value.\n",
        "\n",
        "Example of Deleting Items Using del:"
      ],
      "metadata": {
        "id": "5gEidwo8GfVD"
      }
    },
    {
      "cell_type": "code",
      "source": [
        "# Deleting an item using del\n",
        "del my_dict[\"city\"]\n",
        "print(my_dict)  # Output: {'name': 'Alice', 'age': 31}\n"
      ],
      "metadata": {
        "colab": {
          "base_uri": "https://localhost:8080/"
        },
        "id": "KAq95lZfGilS",
        "outputId": "4bd45fa2-9e4a-4939-aa22-3138ada7b7b0"
      },
      "execution_count": 66,
      "outputs": [
        {
          "output_type": "stream",
          "name": "stdout",
          "text": [
            "{'name': 'Alice', 'age': 31}\n"
          ]
        }
      ]
    },
    {
      "cell_type": "markdown",
      "source": [
        "Example of Deleting Items Using pop():"
      ],
      "metadata": {
        "id": "FLToO_bPGp40"
      }
    },
    {
      "cell_type": "code",
      "source": [
        "# Deleting an item using pop\n",
        "age = my_dict.pop(\"age\")  # This will remove 'age' and return its value\n",
        "print(my_dict)  # Output: {'name': 'Alice'}\n",
        "print(\"Removed age:\", age)  # Output: Removed age: 31\n"
      ],
      "metadata": {
        "colab": {
          "base_uri": "https://localhost:8080/"
        },
        "id": "dnfQYxExGq4u",
        "outputId": "a3315926-f423-4848-d73b-9634086c3070"
      },
      "execution_count": 67,
      "outputs": [
        {
          "output_type": "stream",
          "name": "stdout",
          "text": [
            "{'name': 'Alice'}\n",
            "Removed age: 31\n"
          ]
        }
      ]
    },
    {
      "cell_type": "markdown",
      "source": [
        "Summary of Dictionary Operations\n",
        "\n",
        "Adding Items: Use my_dict[key] = value to add new key-value pairs.\n",
        "Modifying Items: Assign a new value to an existing key with my_dict[key] = new_value.\n",
        "\n",
        "Deleting Items:\n",
        "\n",
        "Use del my_dict[key] to remove a key-value pair.\n",
        "\n",
        "Use value = my_dict.pop(key) to remove a key and return its value.\n",
        "\n",
        "\n",
        "These operations allow you to manage dictionaries effectively in Python, enabling dynamic data manipulation.\n",
        "\n",
        "8.Discuss the importance of dictionary keys being immutable and provide examples.\n",
        "\n",
        "In Python, dictionary keys must be immutable types. This is crucial because the immutability of keys ensures that the integrity and consistency of the dictionary are maintained. Here’s a discussion of the importance of dictionary keys being immutable, along with examples:\n",
        "\n",
        "Importance of Immutable Keys\n",
        "\n",
        "Hashability:\n",
        "\n",
        "Dictionary keys are stored in a hash table, which means they need to be hashable. Immutable types (like strings, numbers, and tuples) have a fixed hash value, allowing efficient access to the associated value.\n",
        "Mutable types (like lists and dictionaries) can change over time, which would alter their hash value and potentially corrupt the dictionary structure.\n",
        "\n",
        "Example:"
      ],
      "metadata": {
        "id": "Z5IJ8637GzbG"
      }
    },
    {
      "cell_type": "code",
      "source": [
        "my_dict = {\n",
        "    \"name\": \"Alice\",       # String (immutable)\n",
        "    (1, 2): \"Coordinates\"   # Tuple (immutable)\n",
        "}\n",
        "# This will raise a TypeError because lists are mutable.\n",
        "# my_dict[[1, 2]] = \"Invalid\"\n"
      ],
      "metadata": {
        "id": "M3y6lpRkHyEW"
      },
      "execution_count": 68,
      "outputs": []
    },
    {
      "cell_type": "markdown",
      "source": [
        "Data Integrity:\n",
        "\n",
        "By ensuring keys are immutable, Python maintains data integrity. You can rely on the fact that once you set a key, it won’t change, which helps avoid unintentional modifications that could lead to errors in data retrieval.\n",
        "\n",
        "Example:"
      ],
      "metadata": {
        "id": "W9-7uNOKH-CO"
      }
    },
    {
      "cell_type": "code",
      "source": [
        "my_dict = {\n",
        "    101: \"Alice\",\n",
        "    102: \"Bob\"\n",
        "}\n",
        "\n",
        "# If 101 were mutable and could change, the following access could become unreliable.\n",
        "print(my_dict[101])  # Output: Alice\n"
      ],
      "metadata": {
        "colab": {
          "base_uri": "https://localhost:8080/"
        },
        "id": "BZEQ38SrIBzC",
        "outputId": "d5f15d8d-b851-4d8c-bd1a-38633bff2983"
      },
      "execution_count": 69,
      "outputs": [
        {
          "output_type": "stream",
          "name": "stdout",
          "text": [
            "Alice\n"
          ]
        }
      ]
    },
    {
      "cell_type": "markdown",
      "source": [
        "Consistent Lookups:\n",
        "\n",
        "Since the keys are immutable, lookups remain consistent. You can use the same key to retrieve its value multiple times without worrying about the key's state changing between accesses.\n",
        "\n",
        "Example:"
      ],
      "metadata": {
        "id": "FsDIvXW8IHuI"
      }
    },
    {
      "cell_type": "code",
      "source": [
        "my_dict = {\n",
        "    \"product_id\": 1001,\n",
        "    \"product_name\": \"Gadget\"\n",
        "}\n",
        "\n",
        "product_id = my_dict[\"product_id\"]  # Lookup remains consistent\n",
        "print(product_id)  # Output: 1001\n"
      ],
      "metadata": {
        "colab": {
          "base_uri": "https://localhost:8080/"
        },
        "id": "o4tpDlHiILtU",
        "outputId": "51acf068-b9fe-4ece-f9b7-e56531b1a9b4"
      },
      "execution_count": 70,
      "outputs": [
        {
          "output_type": "stream",
          "name": "stdout",
          "text": [
            "1001\n"
          ]
        }
      ]
    },
    {
      "cell_type": "markdown",
      "source": [
        "Predictability:\n",
        "\n",
        "Having immutable keys provides predictability in your code. When you use a dictionary, you can trust that the keys won't change, making it easier to debug and reason about your code.\n",
        "\n",
        "Example:"
      ],
      "metadata": {
        "id": "_A6mriQ4IYby"
      }
    },
    {
      "cell_type": "code",
      "source": [
        "user_preferences = {\n",
        "    \"theme\": \"dark\",\n",
        "    \"notifications\": True\n",
        "}\n",
        "\n",
        "# Changing the theme\n",
        "user_preferences[\"theme\"] = \"light\"  # Predictably updates the value\n",
        "print(user_preferences)  # Output: {'theme': 'light', 'notifications': True}\n"
      ],
      "metadata": {
        "colab": {
          "base_uri": "https://localhost:8080/"
        },
        "id": "JRW5GXvOIc8E",
        "outputId": "25ac2dd2-a6b3-4835-ac21-c2d7427b3d09"
      },
      "execution_count": 71,
      "outputs": [
        {
          "output_type": "stream",
          "name": "stdout",
          "text": [
            "{'theme': 'light', 'notifications': True}\n"
          ]
        }
      ]
    },
    {
      "cell_type": "markdown",
      "source": [
        "Performance:\n",
        "\n",
        "The use of immutable keys allows for faster performance in terms of accessing and retrieving data. Hash tables are optimized for constant time complexity (O(1)) for lookups, provided the keys are immutable.\n",
        "\n",
        "Summary\n",
        "In summary, the immutability of dictionary keys is critical for the following reasons:\n",
        "\n",
        "Hashability: Ensures that keys can be used in a hash table.\n",
        "\n",
        "Data Integrity: Prevents accidental changes to keys, maintaining the accuracy of data retrieval.\n",
        "\n",
        "Consistent Lookups: Guarantees that the same key always returns the same value.\n",
        "\n",
        "Predictability: Makes the code easier to read, debug, and maintain.\n",
        "\n",
        "Performance: Optimizes access time for retrieving values associated with keys.\n",
        "\n",
        "\n",
        "These characteristics make immutable keys essential for the functionality and reliability of dictionaries in Python programming.\n",
        "\n",
        "\n",
        "\n",
        "\n",
        "\n",
        "\n",
        "\n",
        "\n",
        "\n",
        "\n",
        "\n"
      ],
      "metadata": {
        "id": "6Sa0tiUIIlE7"
      }
    },
    {
      "cell_type": "code",
      "source": [],
      "metadata": {
        "id": "hnNBIhdfIuqZ"
      },
      "execution_count": null,
      "outputs": []
    }
  ]
}
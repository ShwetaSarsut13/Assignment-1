{
  "nbformat": 4,
  "nbformat_minor": 0,
  "metadata": {
    "colab": {
      "provenance": []
    },
    "kernelspec": {
      "name": "python3",
      "display_name": "Python 3"
    },
    "language_info": {
      "name": "python"
    }
  },
  "cells": [
    {
      "cell_type": "code",
      "execution_count": null,
      "metadata": {
        "id": "uHMxWCBfXZhp"
      },
      "outputs": [],
      "source": []
    },
    {
      "cell_type": "markdown",
      "source": [
        "explain the key features of python that make it popular choice for programming?\n",
        "\n",
        "1. Simplicity and Readability: Python's syntax is clean and easy to read, making it an excellent choice for beginners. This simplicity allows developers to focus on problem-solving rather than complex syntax.\n",
        "\n",
        "2. Versatile and Multi-Paradigm: Python supports multiple programming paradigms, including procedural, object-oriented, and functional programming. This versatility makes it suitable for a wide range of applications.\n",
        "\n",
        "3. Extensive Libraries and Frameworks: Python boasts a vast ecosystem of libraries and frameworks, such as NumPy for numerical computing, Pandas for data manipulation, and Django for web development. This rich set of tools accelerates development and reduces the need to write code from scratch.\n",
        "\n",
        "4. Strong Community Support: Python has a large and active community, which means plenty of resources, tutorials, and forums for troubleshooting. This support is invaluable for both novice and experienced programmers.\n",
        "\n",
        "5. Cross-Platform Compatibility: Python can run on various platforms (Windows, macOS, Linux), making it a flexible option for developers who work in different environments.\n",
        "\n",
        "6. Integration Capabilities: Python easily integrates with other languages and technologies, such as C, C++, and Java, allowing developers to leverage existing code and systems.\n",
        "\n",
        "7. Rich Data Science and Machine Learning Support: With libraries like TensorFlow, scikit-learn. Python is a go-to language for data science and machine learning, attracting a growing audience in these fields.\n",
        "\n",
        "8. Dynamic Typing: Python uses dynamic typing, allowing for more flexibility in code and faster prototyping, although it requires careful management to avoid type-related errors at runtime.\n",
        "\n",
        "\n",
        "2. Describe the role of predefined keywords in python and provide examples of how they are used in a program.\n",
        "\n",
        "In Python, predefined keywords are reserved words that have special meanings and cannot be used as identifiers (such as variable names or function names). These keywords define the syntax and structure of the language, enabling developers to perform specific actions or define the flow of a program.\n",
        "\n",
        "Role of predefined keywords:\n",
        "Control Flow: Keywords like if, else, elif, for, while, and break help in controlling the execution flow of the program.\n",
        "\n",
        "Function Definition: The def keyword is used to define functions, while return specifies the value a function sends back.\n",
        "\n",
        "Data Types: Keywords such as True, False, and None are used to represent boolean values and null values.\n",
        "\n",
        "Exception Handling: Keywords like try, except, finally, and raise are used for handling exceptions and errors.\n",
        "\n",
        "Class and Object Management: class is used to define classes, while self refers to the instance of the class.\n",
        "\n"
      ],
      "metadata": {
        "id": "Hbo_uMo3XbQR"
      }
    },
    {
      "cell_type": "code",
      "source": [
        "print(\"hello world\")"
      ],
      "metadata": {
        "colab": {
          "base_uri": "https://localhost:8080/"
        },
        "id": "7Rcyp423fBAV",
        "outputId": "c8ea1bd2-3441-4700-c6c0-c3246f494065"
      },
      "execution_count": 1,
      "outputs": [
        {
          "output_type": "stream",
          "name": "stdout",
          "text": [
            "hello world\n"
          ]
        }
      ]
    },
    {
      "cell_type": "markdown",
      "source": [],
      "metadata": {
        "id": "-WahkaHfgZcw"
      }
    },
    {
      "cell_type": "markdown",
      "source": [
        "3. compare and contrast mutable and immutuable objects in python with examples.\n",
        "\n",
        "In Python, objects can be categorized as mutable or immutable based on whether their state can be changed after they are created.\n",
        "\n",
        "Mutable Objects\n",
        "Mutable objects can be modified in place. This means you can change their content or structure without creating a new object.\n",
        "\n",
        "Examples of Mutable Objects:\n",
        "\n",
        "Lists\n",
        "Dictionary\n",
        "sets\n",
        "\n",
        "examples:\n"
      ],
      "metadata": {
        "id": "AHDHEeCthFTc"
      }
    },
    {
      "cell_type": "code",
      "source": [
        "#mutable object :list\n",
        "my_list=[1,2,3]\n",
        "print(my_list)"
      ],
      "metadata": {
        "colab": {
          "base_uri": "https://localhost:8080/"
        },
        "id": "lifpORgRiKZE",
        "outputId": "7efdb2d6-490c-49bc-d89d-f6d4ba670a83"
      },
      "execution_count": 5,
      "outputs": [
        {
          "output_type": "stream",
          "name": "stdout",
          "text": [
            "[1, 2, 3]\n"
          ]
        }
      ]
    },
    {
      "cell_type": "code",
      "source": [
        "#modifying the list\n",
        "my_list.append(4)\n",
        "print(my_list)\n"
      ],
      "metadata": {
        "colab": {
          "base_uri": "https://localhost:8080/"
        },
        "id": "MUADp2o5itEv",
        "outputId": "c9d8516c-02b6-4c26-dd7f-e79d024ea69e"
      },
      "execution_count": 6,
      "outputs": [
        {
          "output_type": "stream",
          "name": "stdout",
          "text": [
            "[1, 2, 3, 4]\n"
          ]
        }
      ]
    },
    {
      "cell_type": "markdown",
      "source": [
        "Immutable Objects:\n",
        "Immutable objects cannot be changed after they are created. Any modification creates a new object instead of altering the original.\n",
        "\n",
        "Examples of Immutable Objects:\n",
        "\n",
        "Strings\n",
        "Tuples\n",
        "Frozensets\n",
        "\n",
        "example:\n",
        "\n"
      ],
      "metadata": {
        "id": "QWlDwrQWjbJm"
      }
    },
    {
      "cell_type": "code",
      "source": [
        "#immutable object :string\n",
        "my_string ='hello'\n",
        "print(my_string)"
      ],
      "metadata": {
        "colab": {
          "base_uri": "https://localhost:8080/"
        },
        "id": "Ev_ax6k-jsiD",
        "outputId": "eddf638e-63df-4e64-dd54-a29bb1ac32be"
      },
      "execution_count": 9,
      "outputs": [
        {
          "output_type": "stream",
          "name": "stdout",
          "text": [
            "hello\n"
          ]
        }
      ]
    },
    {
      "cell_type": "code",
      "source": [
        "#attempting to modify the string\n",
        "new_string=my_string.replace(\"h\",\"j\")\n",
        "print(new_string)"
      ],
      "metadata": {
        "colab": {
          "base_uri": "https://localhost:8080/"
        },
        "id": "YDEfnsP9kZ6P",
        "outputId": "ebae24f6-7b09-4e4a-d6b2-f78d140589f6"
      },
      "execution_count": 10,
      "outputs": [
        {
          "output_type": "stream",
          "name": "stdout",
          "text": [
            "jello\n"
          ]
        }
      ]
    },
    {
      "cell_type": "code",
      "source": [
        "print(my_string)"
      ],
      "metadata": {
        "colab": {
          "base_uri": "https://localhost:8080/"
        },
        "id": "nCPN-VqSk7lP",
        "outputId": "26b8a12d-7318-4ddb-c4f7-8757c298e1a2"
      },
      "execution_count": 11,
      "outputs": [
        {
          "output_type": "stream",
          "name": "stdout",
          "text": [
            "hello\n"
          ]
        }
      ]
    },
    {
      "cell_type": "markdown",
      "source": [
        "4. discuss the different types of operators in python and provide examples of how they are used.\n",
        "In Python, operators are special symbols used to perform operations on variables and values.\n",
        "main types of operators are given below:\n",
        "\n",
        " Arithmetic Operators:\n",
        "These operators perform basic mathematical operations.\n",
        "\n",
        "Addition (+): Adds two numbers.\n",
        "Subtraction (-): Subtracts one number from another.\n",
        "Multiplication (*): Multiplies two numbers.\n",
        "Division (/): Divides one number by another (returns a float).\n",
        "Floor Division (//): Divides and returns the largest integer less than or equal to the division result.\n",
        "Modulus (%): Returns the remainder of the division.\n",
        "Exponentiation (**): Raises one number to the power of another.\n",
        "Example:\n"
      ],
      "metadata": {
        "id": "JSZ-2xVvlDIH"
      }
    },
    {
      "cell_type": "code",
      "source": [
        "a = 10\n",
        "b = 3\n",
        "print(a+b)\n"
      ],
      "metadata": {
        "colab": {
          "base_uri": "https://localhost:8080/"
        },
        "id": "9zTUMY4unGRt",
        "outputId": "e0a73b5d-185f-44e3-a7e4-87faeffc07d5"
      },
      "execution_count": 12,
      "outputs": [
        {
          "output_type": "stream",
          "name": "stdout",
          "text": [
            "13\n"
          ]
        }
      ]
    },
    {
      "cell_type": "code",
      "source": [
        "print(a-b)"
      ],
      "metadata": {
        "colab": {
          "base_uri": "https://localhost:8080/"
        },
        "id": "_FhZvlzVnaae",
        "outputId": "e68f4409-1da6-4966-e338-8726f4cdc9c2"
      },
      "execution_count": 13,
      "outputs": [
        {
          "output_type": "stream",
          "name": "stdout",
          "text": [
            "7\n"
          ]
        }
      ]
    },
    {
      "cell_type": "code",
      "source": [
        "print(a*b)"
      ],
      "metadata": {
        "colab": {
          "base_uri": "https://localhost:8080/"
        },
        "id": "T-XSvyB8ngRz",
        "outputId": "9b6a3658-e696-43e3-9c85-1d58d032cfc6"
      },
      "execution_count": 14,
      "outputs": [
        {
          "output_type": "stream",
          "name": "stdout",
          "text": [
            "30\n"
          ]
        }
      ]
    },
    {
      "cell_type": "code",
      "source": [
        "print(a/b)"
      ],
      "metadata": {
        "colab": {
          "base_uri": "https://localhost:8080/"
        },
        "id": "UVv2IJzannBJ",
        "outputId": "3fbb63f9-6686-4645-aaed-96a7cd804329"
      },
      "execution_count": 15,
      "outputs": [
        {
          "output_type": "stream",
          "name": "stdout",
          "text": [
            "3.3333333333333335\n"
          ]
        }
      ]
    },
    {
      "cell_type": "code",
      "source": [
        "print(a//b)"
      ],
      "metadata": {
        "colab": {
          "base_uri": "https://localhost:8080/"
        },
        "id": "sGeNmdvXnvSq",
        "outputId": "26860679-8cd8-4d8d-f2c0-61655c1d1ab9"
      },
      "execution_count": 16,
      "outputs": [
        {
          "output_type": "stream",
          "name": "stdout",
          "text": [
            "3\n"
          ]
        }
      ]
    },
    {
      "cell_type": "code",
      "source": [
        "print(a%b)"
      ],
      "metadata": {
        "colab": {
          "base_uri": "https://localhost:8080/"
        },
        "id": "7wRw5v7On1Ib",
        "outputId": "c1c5de3a-e2c2-4994-8ccd-a34ab44d8c48"
      },
      "execution_count": 17,
      "outputs": [
        {
          "output_type": "stream",
          "name": "stdout",
          "text": [
            "1\n"
          ]
        }
      ]
    },
    {
      "cell_type": "code",
      "source": [
        "print(a**b)"
      ],
      "metadata": {
        "colab": {
          "base_uri": "https://localhost:8080/"
        },
        "id": "2nQeUoWln9gP",
        "outputId": "f55d7067-5987-46c5-ce5f-79de7ca34131"
      },
      "execution_count": 18,
      "outputs": [
        {
          "output_type": "stream",
          "name": "stdout",
          "text": [
            "1000\n"
          ]
        }
      ]
    },
    {
      "cell_type": "markdown",
      "source": [
        " Comparison Operators:\n",
        "These operators compare two values and return a boolean result (True or False).\n",
        "\n",
        "Equal to (==): Checks if two values are equal.\n",
        "Not equal to (!=): Checks if two values are not equal.\n",
        "Greater than (>): Checks if the left value is greater than the right.\n",
        "Less than (<): Checks if the left value is less than the right.\n",
        "Greater than or equal to (>=): Checks if the left value is greater than or equal to the right.\n",
        "Less than or equal to (<=): Checks if the left value is less than or equal to the right.\n",
        "\n",
        "examples:\n"
      ],
      "metadata": {
        "id": "scw3ST0MoBrG"
      }
    },
    {
      "cell_type": "code",
      "source": [
        "x=5\n",
        "y=8\n",
        "print(x==y)"
      ],
      "metadata": {
        "colab": {
          "base_uri": "https://localhost:8080/"
        },
        "id": "MgLnpCnWog4Z",
        "outputId": "ed97ddfe-422c-4915-bacc-8e99abacc1ed"
      },
      "execution_count": 19,
      "outputs": [
        {
          "output_type": "stream",
          "name": "stdout",
          "text": [
            "False\n"
          ]
        }
      ]
    },
    {
      "cell_type": "code",
      "source": [
        "print(x!=y)"
      ],
      "metadata": {
        "colab": {
          "base_uri": "https://localhost:8080/"
        },
        "id": "gYgt4I7SouEi",
        "outputId": "0750f039-ce73-4e2d-e361-73c96a9a9089"
      },
      "execution_count": 20,
      "outputs": [
        {
          "output_type": "stream",
          "name": "stdout",
          "text": [
            "True\n"
          ]
        }
      ]
    },
    {
      "cell_type": "code",
      "source": [
        "print(x>y)"
      ],
      "metadata": {
        "colab": {
          "base_uri": "https://localhost:8080/"
        },
        "id": "n_Sg9o-Bo4NU",
        "outputId": "9866ce96-87a5-472e-c9fd-2dedd7a0e62e"
      },
      "execution_count": 21,
      "outputs": [
        {
          "output_type": "stream",
          "name": "stdout",
          "text": [
            "False\n"
          ]
        }
      ]
    },
    {
      "cell_type": "code",
      "source": [
        "print (x<y)"
      ],
      "metadata": {
        "colab": {
          "base_uri": "https://localhost:8080/"
        },
        "id": "t0iMTnLQo-dz",
        "outputId": "7301fa4e-fb59-49d1-c5f0-858eb2143ab8"
      },
      "execution_count": 22,
      "outputs": [
        {
          "output_type": "stream",
          "name": "stdout",
          "text": [
            "True\n"
          ]
        }
      ]
    },
    {
      "cell_type": "code",
      "source": [
        "print(x>=y)"
      ],
      "metadata": {
        "colab": {
          "base_uri": "https://localhost:8080/"
        },
        "id": "CWSQuLVNpE5o",
        "outputId": "f8db63b9-b93f-4d49-8653-d5ceed09d72c"
      },
      "execution_count": 23,
      "outputs": [
        {
          "output_type": "stream",
          "name": "stdout",
          "text": [
            "False\n"
          ]
        }
      ]
    },
    {
      "cell_type": "code",
      "source": [
        "print(x<=y)"
      ],
      "metadata": {
        "colab": {
          "base_uri": "https://localhost:8080/"
        },
        "id": "PBQ7XHKgpKze",
        "outputId": "8a0ce29c-f26d-47f1-8bb0-4dc79562dfc5"
      },
      "execution_count": 24,
      "outputs": [
        {
          "output_type": "stream",
          "name": "stdout",
          "text": [
            "True\n"
          ]
        }
      ]
    },
    {
      "cell_type": "markdown",
      "source": [
        "Logical Operators\n",
        "These operators are used to combine conditional statements.\n",
        "\n",
        "AND (and): Returns True if both statements are true.\n",
        "OR (or): Returns True if at least one of the statements is true.\n",
        "NOT (not): Reverses the boolean value.\n",
        "Example:\n",
        "\n"
      ],
      "metadata": {
        "id": "kuAfkqeVpSvW"
      }
    },
    {
      "cell_type": "code",
      "source": [
        "a=True\n",
        "b=False\n",
        "print(a and b)"
      ],
      "metadata": {
        "colab": {
          "base_uri": "https://localhost:8080/"
        },
        "id": "QdO4yDynpd9T",
        "outputId": "751f4ee1-55b2-45cd-9cce-77f424aafafc"
      },
      "execution_count": 25,
      "outputs": [
        {
          "output_type": "stream",
          "name": "stdout",
          "text": [
            "False\n"
          ]
        }
      ]
    },
    {
      "cell_type": "code",
      "source": [
        "print(a or b)"
      ],
      "metadata": {
        "colab": {
          "base_uri": "https://localhost:8080/"
        },
        "id": "J_MDiVANprdZ",
        "outputId": "0fe8222f-462b-4e4e-fa34-954e85625a11"
      },
      "execution_count": 26,
      "outputs": [
        {
          "output_type": "stream",
          "name": "stdout",
          "text": [
            "True\n"
          ]
        }
      ]
    },
    {
      "cell_type": "code",
      "source": [
        "print(not a)"
      ],
      "metadata": {
        "colab": {
          "base_uri": "https://localhost:8080/"
        },
        "id": "uhqxqUKUpu6v",
        "outputId": "045fb282-75cf-43b7-d56b-97ade852bf2c"
      },
      "execution_count": 28,
      "outputs": [
        {
          "output_type": "stream",
          "name": "stdout",
          "text": [
            "False\n"
          ]
        }
      ]
    },
    {
      "cell_type": "markdown",
      "source": [
        "Assignment Operators:\n",
        "These operators are used to assign values to variables.\n",
        "\n",
        "Assignment (=): Assigns a value to a variable.\n",
        "Add and assign (+=): Adds and assigns a value.\n",
        "Subtract and assign (-=): Subtracts and assigns a value.\n",
        "Multiply and assign (*=): Multiplies and assigns a value.\n",
        "Divide and assign (/=): Divides and assigns a value.\n",
        "Modulus and assign (%=): Takes modulus and assigns a value.\n",
        "examples:\n",
        "\n",
        ":"
      ],
      "metadata": {
        "id": "zPLuEAkLqDOO"
      }
    },
    {
      "cell_type": "code",
      "source": [
        "num=10\n",
        "num+=5\n",
        "print(num)"
      ],
      "metadata": {
        "colab": {
          "base_uri": "https://localhost:8080/"
        },
        "id": "RRiP8BOvqH7b",
        "outputId": "905d9c7e-043f-4487-bd6a-14616e6fbde0"
      },
      "execution_count": 29,
      "outputs": [
        {
          "output_type": "stream",
          "name": "stdout",
          "text": [
            "15\n"
          ]
        }
      ]
    },
    {
      "cell_type": "code",
      "source": [
        "num-=3\n",
        "print(num)"
      ],
      "metadata": {
        "colab": {
          "base_uri": "https://localhost:8080/"
        },
        "id": "T8-OpeXBqZgj",
        "outputId": "98ffae05-bdc7-4c54-f0d3-e193369ab7e4"
      },
      "execution_count": 30,
      "outputs": [
        {
          "output_type": "stream",
          "name": "stdout",
          "text": [
            "12\n"
          ]
        }
      ]
    },
    {
      "cell_type": "markdown",
      "source": [
        "Bitwise Operators:\n",
        "These operators perform operations on bits.\n",
        "\n",
        "AND (&): Bitwise AND.\n",
        "OR (|): Bitwise OR.\n",
        "XOR (^): Bitwise XOR.\n",
        "NOT (~): Bitwise NOT.\n",
        "Left Shift (<<): Shifts bits to the left.\n",
        "Right Shift (>>): Shifts bits to the right.\n",
        "Example:"
      ],
      "metadata": {
        "id": "5IvEqDdbqiwE"
      }
    },
    {
      "cell_type": "code",
      "source": [
        "a=5 (binary :1010)\n",
        "\n",
        "b=3 (binary :0011)\n",
        "print(a&b)"
      ],
      "metadata": {
        "colab": {
          "base_uri": "https://localhost:8080/"
        },
        "id": "7VH1WLJeqrNf",
        "outputId": "cd0175ec-a369-4bda-f56c-c3b67ad6a5aa"
      },
      "execution_count": 31,
      "outputs": [
        {
          "output_type": "stream",
          "name": "stdout",
          "text": [
            "1\n"
          ]
        }
      ]
    },
    {
      "cell_type": "code",
      "source": [
        "print(a|b)"
      ],
      "metadata": {
        "colab": {
          "base_uri": "https://localhost:8080/"
        },
        "id": "1pWDnp_FrTx0",
        "outputId": "d8898300-63ac-4339-9e84-a685191d1f5c"
      },
      "execution_count": 32,
      "outputs": [
        {
          "output_type": "stream",
          "name": "stdout",
          "text": [
            "7\n"
          ]
        }
      ]
    },
    {
      "cell_type": "code",
      "source": [
        "print(a^b)"
      ],
      "metadata": {
        "colab": {
          "base_uri": "https://localhost:8080/"
        },
        "id": "88XwphM-rZfG",
        "outputId": "f40fdc08-5f50-4b23-ff4b-94cadba50712"
      },
      "execution_count": 33,
      "outputs": [
        {
          "output_type": "stream",
          "name": "stdout",
          "text": [
            "6\n"
          ]
        }
      ]
    },
    {
      "cell_type": "code",
      "source": [
        "print(~a)"
      ],
      "metadata": {
        "colab": {
          "base_uri": "https://localhost:8080/"
        },
        "id": "QXqQYwe_rgjb",
        "outputId": "b081bcb5-129f-40cb-c8bc-65e030ed8b9a"
      },
      "execution_count": 35,
      "outputs": [
        {
          "output_type": "stream",
          "name": "stdout",
          "text": [
            "-6\n"
          ]
        }
      ]
    },
    {
      "cell_type": "code",
      "source": [
        "print(a<<1)"
      ],
      "metadata": {
        "colab": {
          "base_uri": "https://localhost:8080/"
        },
        "id": "qy8-PjyQrxfQ",
        "outputId": "37593ee0-5c6b-4092-9ce0-7765331a883c"
      },
      "execution_count": 38,
      "outputs": [
        {
          "output_type": "stream",
          "name": "stdout",
          "text": [
            "10\n"
          ]
        }
      ]
    },
    {
      "cell_type": "code",
      "source": [
        "print(a>>1)"
      ],
      "metadata": {
        "colab": {
          "base_uri": "https://localhost:8080/"
        },
        "id": "DV-5aRjLsIo0",
        "outputId": "4e007d7c-cc55-4bd1-bb2b-15d6968d064e"
      },
      "execution_count": 39,
      "outputs": [
        {
          "output_type": "stream",
          "name": "stdout",
          "text": [
            "2\n"
          ]
        }
      ]
    },
    {
      "cell_type": "markdown",
      "source": [
        "Membership Operators:\n",
        "These operators test for membership in sequences such as lists, strings, or tuples.\n",
        "\n",
        "In (in): Returns True if a value is found in a sequence.\n",
        "Not in (not in): Returns True if a value is not found in a sequence.\n",
        "Example:\n"
      ],
      "metadata": {
        "id": "GRRx1GKaseI1"
      }
    },
    {
      "cell_type": "code",
      "source": [
        "my_list = [1, 2, 3, 4, 5]\n",
        "\n",
        "print(3 in my_list)\n",
        "print(6 not in my_list)\n"
      ],
      "metadata": {
        "colab": {
          "base_uri": "https://localhost:8080/"
        },
        "id": "08LObC3btCF1",
        "outputId": "07cc4022-4990-460c-f081-b3c2aeef71b8"
      },
      "execution_count": 40,
      "outputs": [
        {
          "output_type": "stream",
          "name": "stdout",
          "text": [
            "True\n",
            "True\n"
          ]
        }
      ]
    },
    {
      "cell_type": "markdown",
      "source": [
        "Identity Operators:\n",
        "These operators compare the memory location of two objects.\n",
        "\n",
        "Is (is): Returns True if both variables point to the same object.\n",
        "Is not (is not): Returns True if both variables do not point to the same object.\n",
        "Example:\n",
        "\n"
      ],
      "metadata": {
        "id": "JHOWzBJJtcxt"
      }
    },
    {
      "cell_type": "code",
      "source": [
        "a = [1, 2, 3]\n",
        "b = a\n",
        "c = list(a)\n",
        "\n",
        "print(a is b)\n",
        "print(a is c)\n",
        "print(a == c)\n"
      ],
      "metadata": {
        "colab": {
          "base_uri": "https://localhost:8080/"
        },
        "id": "oREFfgP1t1si",
        "outputId": "ced3a623-685b-4e3f-aa41-0ae90e8721cd"
      },
      "execution_count": 41,
      "outputs": [
        {
          "output_type": "stream",
          "name": "stdout",
          "text": [
            "True\n",
            "False\n",
            "True\n"
          ]
        }
      ]
    },
    {
      "cell_type": "markdown",
      "source": [
        "5.Explain the concept of typecasting in python with examples.\n",
        "\n",
        "Type casting in Python refers to the process of converting one data type into another. This is useful when you need to change the type of a variable or expression to make it compatible with other data types in your code.\n",
        "\n",
        "There are two types of type casting:\n",
        "\n",
        "1. Implicit Type Casting:\n",
        "Python automatically converts one data type to another without explicit instructions from the user. This usually happens when Python tries to avoid data loss in expressions involving different data types.\n",
        "Example of Implicit Type Casting:\n",
        "\n"
      ],
      "metadata": {
        "id": "cK08Dq3euG8a"
      }
    },
    {
      "cell_type": "code",
      "source": [
        "x = 5     # Integer\n",
        "y = 2.0   # Float\n",
        "\n",
        "result = x + y\n",
        "print(result)\n",
        "print(type(result))\n"
      ],
      "metadata": {
        "colab": {
          "base_uri": "https://localhost:8080/"
        },
        "id": "fHaC25eCwAvR",
        "outputId": "5bfd9b12-5fb4-47e8-d757-3ea70143569f"
      },
      "execution_count": 42,
      "outputs": [
        {
          "output_type": "stream",
          "name": "stdout",
          "text": [
            "7.0\n",
            "<class 'float'>\n"
          ]
        }
      ]
    },
    {
      "cell_type": "markdown",
      "source": [
        "Explicit Type Casting:\n",
        "In explicit type casting, the user manually converts a value from one data type to another using type conversion functions.\n",
        "\n",
        "Common type conversion functions in Python:\n",
        "\n",
        "int(): Converts a value to an integer.\n",
        "float(): Converts a value to a float.\n",
        "str(): Converts a value to a string.\n",
        "list(), tuple(), etc., for converting between collection."
      ],
      "metadata": {
        "id": "lOrjg6RUwrON"
      }
    },
    {
      "cell_type": "code",
      "source": [
        "x = \"10\"      # String\n",
        "y = int(x)    # Explicitly converting the string to an integer\n",
        "\n",
        "print(y)\n",
        "print(type(y))\n"
      ],
      "metadata": {
        "colab": {
          "base_uri": "https://localhost:8080/"
        },
        "id": "f0C_5lNLw3X_",
        "outputId": "d8baf975-43d8-4aed-f3f5-376557f52111"
      },
      "execution_count": 43,
      "outputs": [
        {
          "output_type": "stream",
          "name": "stdout",
          "text": [
            "10\n",
            "<class 'int'>\n"
          ]
        }
      ]
    },
    {
      "cell_type": "markdown",
      "source": [
        "More Examples:\n",
        "Converting a Float to an Integer:\n"
      ],
      "metadata": {
        "id": "VAPO4BpTxGFE"
      }
    },
    {
      "cell_type": "code",
      "source": [
        "a = 7.89\n",
        "b = int(a)\n",
        "print(b)\n"
      ],
      "metadata": {
        "colab": {
          "base_uri": "https://localhost:8080/"
        },
        "id": "lAzi70OTxIfS",
        "outputId": "d6daa0c7-341e-4720-a494-c36a33c838dc"
      },
      "execution_count": 44,
      "outputs": [
        {
          "output_type": "stream",
          "name": "stdout",
          "text": [
            "7\n"
          ]
        }
      ]
    },
    {
      "cell_type": "markdown",
      "source": [
        "Converting an Integer to a String:\n"
      ],
      "metadata": {
        "id": "K2LCN2Xcxths"
      }
    },
    {
      "cell_type": "code",
      "source": [
        "x = 100\n",
        "y = str(x)\n",
        "print(y)\n",
        "print(type(y))\n"
      ],
      "metadata": {
        "colab": {
          "base_uri": "https://localhost:8080/"
        },
        "id": "5xGtp2kVx25S",
        "outputId": "40bb8ae6-d44d-4a25-e4ff-542cf7755187"
      },
      "execution_count": 45,
      "outputs": [
        {
          "output_type": "stream",
          "name": "stdout",
          "text": [
            "100\n",
            "<class 'str'>\n"
          ]
        }
      ]
    },
    {
      "cell_type": "markdown",
      "source": [
        "Converting a List to a Tuple:"
      ],
      "metadata": {
        "id": "p4_whkdGyAdr"
      }
    },
    {
      "cell_type": "code",
      "source": [
        "my_list = [1, 2, 3]\n",
        "my_tuple = tuple(my_list)\n",
        "print(my_tuple)\n"
      ],
      "metadata": {
        "colab": {
          "base_uri": "https://localhost:8080/"
        },
        "id": "_nja_2uJyFsk",
        "outputId": "7bbc90c1-5ded-4405-faf4-12e4dfb89633"
      },
      "execution_count": 46,
      "outputs": [
        {
          "output_type": "stream",
          "name": "stdout",
          "text": [
            "(1, 2, 3)\n"
          ]
        }
      ]
    },
    {
      "cell_type": "markdown",
      "source": [
        "6. How do conditional statements work in python ?Illustrate with examples.\n",
        "\n",
        "Conditional statements in Python allow you to execute certain blocks of code depending on whether a specific condition or set of conditions is true or false. These statements help control the flow of your program based on the logic you define.\n",
        "\n",
        "Types of Conditional Statements in Python:\n",
        "if statement\n",
        "if-else statement\n",
        "if-elif-else statement\n",
        "Nested if statements\n",
        "1. if Statement:\n",
        "The if statement evaluates a condition (an expression that results in True or False). If the condition is True, the code block inside the if statement is executed; otherwise, it is skipped.\n",
        "Syntax\n",
        "     if condition:\n",
        "     code block to execute if the condition is true\n",
        "      \n",
        "examples:\n",
        "\n",
        "\n"
      ],
      "metadata": {
        "id": "3t4Ew5nTyqEo"
      }
    },
    {
      "cell_type": "code",
      "source": [
        "x = 10\n",
        "if x > 5:\n",
        "    print(\"x is greater than 5\")\n",
        "\n"
      ],
      "metadata": {
        "colab": {
          "base_uri": "https://localhost:8080/"
        },
        "id": "9a_iZMXFz4oh",
        "outputId": "c28984d6-ae49-4438-d452-aea3206aefdf"
      },
      "execution_count": 47,
      "outputs": [
        {
          "output_type": "stream",
          "name": "stdout",
          "text": [
            "x is greater than 5\n"
          ]
        }
      ]
    },
    {
      "cell_type": "markdown",
      "source": [
        "2. if-else Statement:\n",
        "The if-else statement provides an alternative block of code to execute if the if condition is False.\n",
        "\n",
        "Syntax:"
      ],
      "metadata": {
        "id": "IiU7ruIG0Aqq"
      }
    },
    {
      "cell_type": "markdown",
      "source": [
        "if condition:\n",
        "     code block if the condition is true\n",
        "else:\n",
        "     code block if the condition is false\n",
        "\n",
        "examples:\n",
        "\n"
      ],
      "metadata": {
        "id": "b-I6D0U00ZgA"
      }
    },
    {
      "cell_type": "code",
      "source": [
        "x = 3\n",
        "if x > 5:\n",
        "    print(\"x is greater than 5\")\n",
        "else:\n",
        "    print(\"x is not greater than 5\")\n",
        "\n"
      ],
      "metadata": {
        "colab": {
          "base_uri": "https://localhost:8080/"
        },
        "id": "xEQQhmTk0hIr",
        "outputId": "c5192d19-1077-4267-a941-0f6efa34f66b"
      },
      "execution_count": 49,
      "outputs": [
        {
          "output_type": "stream",
          "name": "stdout",
          "text": [
            "x is not greater than 5\n"
          ]
        }
      ]
    },
    {
      "cell_type": "markdown",
      "source": [
        "3. if-elif-else Statement:\n",
        "The if-elif-else statement allows you to check multiple conditions. The elif (short for \"else if\") statement is used to check another condition if the previous ones are false. You can have multiple elif blocks, but only one else block.\n",
        "\n",
        "Syntax:\n",
        "if condition1:\n",
        "     code block if condition1 is true\n",
        "elif condition2:\n",
        "     code block if condition2 is true\n",
        "else:\n",
        "     code block if none of the above conditions is true\n",
        "\n",
        "examples:\n",
        "\n"
      ],
      "metadata": {
        "id": "cnNLRImf0quO"
      }
    },
    {
      "cell_type": "code",
      "source": [
        "x = 7\n",
        "if x > 10:\n",
        "    print(\"x is greater than 10\")\n",
        "elif x > 5:\n",
        "    print(\"x is greater than 5 but less than or equal to 10\")\n",
        "else:\n",
        "    print(\"x is 5 or less\")\n"
      ],
      "metadata": {
        "colab": {
          "base_uri": "https://localhost:8080/"
        },
        "id": "1kRomRxu1Uco",
        "outputId": "6839f81d-5550-4c12-d2c8-6d313c8741ad"
      },
      "execution_count": 50,
      "outputs": [
        {
          "output_type": "stream",
          "name": "stdout",
          "text": [
            "x is greater than 5 but less than or equal to 10\n"
          ]
        }
      ]
    },
    {
      "cell_type": "markdown",
      "source": [
        "4. Nested if Statements:\n",
        "You can nest if statements inside other if, elif, or else blocks. This allows you to check additional conditions after a parent condition has been evaluated.\n",
        "\n",
        "Example:\n",
        "\n"
      ],
      "metadata": {
        "id": "gliO5epG1fNA"
      }
    },
    {
      "cell_type": "code",
      "source": [
        "x = 15\n",
        "if x > 10:\n",
        "    print(\"x is greater than 10\")\n",
        "    if x % 2 == 0:\n",
        "        print(\"x is also an even number\")\n",
        "    else:\n",
        "        print(\"x is an odd number\")\n"
      ],
      "metadata": {
        "colab": {
          "base_uri": "https://localhost:8080/"
        },
        "id": "p5RcqArx1oAB",
        "outputId": "f697aa48-3592-4b51-f9c6-da669d54310c"
      },
      "execution_count": 51,
      "outputs": [
        {
          "output_type": "stream",
          "name": "stdout",
          "text": [
            "x is greater than 10\n",
            "x is an odd number\n"
          ]
        }
      ]
    },
    {
      "cell_type": "markdown",
      "source": [
        "Logical Operators with Conditionals:\n",
        "You can use logical operators (and, or, not) to combine multiple conditions.\n",
        "\n",
        "Example:\n"
      ],
      "metadata": {
        "id": "EqwfVUxE1yr_"
      }
    },
    {
      "cell_type": "code",
      "source": [
        "x = 8\n",
        "if x > 5 and x < 10:\n",
        "    print(\"x is between 5 and 10\")\n"
      ],
      "metadata": {
        "colab": {
          "base_uri": "https://localhost:8080/"
        },
        "id": "OdFA9_eg16pf",
        "outputId": "298a6158-d596-4685-83f1-e0aa4591c8ab"
      },
      "execution_count": 52,
      "outputs": [
        {
          "output_type": "stream",
          "name": "stdout",
          "text": [
            "x is between 5 and 10\n"
          ]
        }
      ]
    },
    {
      "cell_type": "markdown",
      "source": [
        "Comparison Operators with Conditionals:\n",
        "== (equal to)\n",
        "!= (not equal to)\n",
        "> (greater than)\n",
        "< (less than)\n",
        ">= (greater than or equal to)\n",
        "<= (less than or equal to)\n",
        "Example:"
      ],
      "metadata": {
        "id": "Y71-cQi22d3l"
      }
    },
    {
      "cell_type": "code",
      "source": [
        "x = 10\n",
        "y = 5\n",
        "if x == 10 and y != 10:\n",
        "    print(\"x is 10 and y is not 10\")\n"
      ],
      "metadata": {
        "colab": {
          "base_uri": "https://localhost:8080/"
        },
        "id": "6I0o7Yo22faa",
        "outputId": "fb4120ee-e7b2-4758-ee19-d6a8c66bb74c"
      },
      "execution_count": 53,
      "outputs": [
        {
          "output_type": "stream",
          "name": "stdout",
          "text": [
            "x is 10 and y is not 10\n"
          ]
        }
      ]
    },
    {
      "cell_type": "markdown",
      "source": [
        "7. Describe the different types of loops in python and their use cases with examples.\n"
      ],
      "metadata": {
        "id": "AtiLIp5v2xuV"
      }
    },
    {
      "cell_type": "markdown",
      "source": [
        "\n",
        "Python provides two primary types of loops for repeating blocks of code: for loops and while loops. Both types of loops are useful in different scenarios depending on the structure of the data and the task at hand.\n",
        "\n",
        "1. for Loop:\n",
        "A for loop in Python is used to iterate over a sequence (such as a list, tuple, dictionary, set, or string) and execute a block of code for each item in the sequence.\n",
        "\n",
        "Syntax:\n"
      ],
      "metadata": {
        "id": "vMaYeaNn3sGI"
      }
    },
    {
      "cell_type": "code",
      "source": [
        "for item in sequence:\n",
        "     code block\n"
      ],
      "metadata": {
        "id": "B3dRUCd04C5-"
      },
      "execution_count": null,
      "outputs": []
    },
    {
      "cell_type": "markdown",
      "source": [
        "Use Cases:\n",
        "Iterating over lists, tuples, or strings.\n",
        "Repeating tasks for each element in a sequence.\n",
        "Iterating over a specific range of numbers using range().\n",
        "\n",
        "Example 1: Iterating over a list\n"
      ],
      "metadata": {
        "id": "pZHu90am4GRp"
      }
    },
    {
      "cell_type": "code",
      "source": [
        "fruits = [\"apple\", \"banana\", \"cherry\"]\n",
        "for fruit in fruits:\n",
        "    print(fruit)\n"
      ],
      "metadata": {
        "colab": {
          "base_uri": "https://localhost:8080/"
        },
        "id": "yoJJT2X04WXN",
        "outputId": "520387a1-de09-4af7-f6b6-2554c0a5efec"
      },
      "execution_count": 55,
      "outputs": [
        {
          "output_type": "stream",
          "name": "stdout",
          "text": [
            "apple\n",
            "banana\n",
            "cherry\n"
          ]
        }
      ]
    },
    {
      "cell_type": "markdown",
      "source": [
        "Example 2: Using range() to iterate over numbers\n"
      ],
      "metadata": {
        "id": "JIZzkEOO4krP"
      }
    },
    {
      "cell_type": "code",
      "source": [
        "for i in range(5):  # Iterates over numbers 0 to 4\n",
        "    print(i)\n"
      ],
      "metadata": {
        "colab": {
          "base_uri": "https://localhost:8080/"
        },
        "id": "MdtDc9WY4nqY",
        "outputId": "b545f70f-ca96-4c62-92f0-ca783e8353b9"
      },
      "execution_count": 56,
      "outputs": [
        {
          "output_type": "stream",
          "name": "stdout",
          "text": [
            "0\n",
            "1\n",
            "2\n",
            "3\n",
            "4\n"
          ]
        }
      ]
    },
    {
      "cell_type": "markdown",
      "source": [
        "Example 3: Iterating over a string\n",
        "\n"
      ],
      "metadata": {
        "id": "iSo8ffMW401z"
      }
    },
    {
      "cell_type": "code",
      "source": [
        "word = \"Python\"\n",
        "for letter in word:\n",
        "    print(letter)\n"
      ],
      "metadata": {
        "colab": {
          "base_uri": "https://localhost:8080/"
        },
        "id": "hy-jSNaY43GL",
        "outputId": "a05b1bb9-a2e2-4253-a984-8c12751dfd1f"
      },
      "execution_count": 57,
      "outputs": [
        {
          "output_type": "stream",
          "name": "stdout",
          "text": [
            "P\n",
            "y\n",
            "t\n",
            "h\n",
            "o\n",
            "n\n"
          ]
        }
      ]
    },
    {
      "cell_type": "markdown",
      "source": [
        "2. while Loop:\n",
        "A while loop in Python repeats a block of code as long as a given condition is True. It is ideal for scenarios where you don't know beforehand how many times the loop will run (as opposed to for loops where the range is often predefined).\n",
        "\n",
        "Syntax:"
      ],
      "metadata": {
        "id": "M540i5H75FEa"
      }
    },
    {
      "cell_type": "code",
      "source": [],
      "metadata": {
        "id": "66ydVnOS5TPu"
      },
      "execution_count": null,
      "outputs": []
    },
    {
      "cell_type": "code",
      "source": [
        "while condition:\n",
        "    code block\n"
      ],
      "metadata": {
        "id": "ULCy-iRw5TxM"
      },
      "execution_count": null,
      "outputs": []
    },
    {
      "cell_type": "markdown",
      "source": [
        "Use Cases:\n",
        "Repeating a block of code until a condition is met.\n",
        "Useful when the number of iterations is not known in advance.\n",
        "Infinite loops (with caution) and waiting for specific events to occur.\n",
        "Example 1: Counting using a while loop"
      ],
      "metadata": {
        "id": "aW0vKs9K5WcV"
      }
    },
    {
      "cell_type": "code",
      "source": [
        "count = 0\n",
        "while count < 5:\n",
        "    print(count)\n",
        "    count += 1\n"
      ],
      "metadata": {
        "colab": {
          "base_uri": "https://localhost:8080/"
        },
        "id": "vrrlKamK5goJ",
        "outputId": "0cba4e02-5b0f-4921-89d7-7dcfb657fab1"
      },
      "execution_count": 58,
      "outputs": [
        {
          "output_type": "stream",
          "name": "stdout",
          "text": [
            "0\n",
            "1\n",
            "2\n",
            "3\n",
            "4\n"
          ]
        }
      ]
    },
    {
      "cell_type": "markdown",
      "source": [
        "3. Nested Loops:\n",
        "Python allows loops to be nested, meaning you can place a loop inside another loop. Nested loops are useful for working with multi-dimensional data structures like lists of lists (or matrices).\n",
        "\n",
        "Example: Nested for loop"
      ],
      "metadata": {
        "id": "XRA-SDpO7r2t"
      }
    },
    {
      "cell_type": "code",
      "source": [
        "matrix = [\n",
        "    [1, 2, 3],\n",
        "    [4, 5, 6],\n",
        "    [7, 8, 9]\n",
        "]\n",
        "\n",
        "for row in matrix:\n",
        "    for item in row:\n",
        "        print(item, end=\" \")\n",
        "    print()  # For a new line after each row\n"
      ],
      "metadata": {
        "colab": {
          "base_uri": "https://localhost:8080/"
        },
        "id": "yrM2hNmt70kI",
        "outputId": "a7d66248-7385-43e5-a8c2-c41081dbc674"
      },
      "execution_count": 63,
      "outputs": [
        {
          "output_type": "stream",
          "name": "stdout",
          "text": [
            "1 2 3 \n",
            "4 5 6 \n",
            "7 8 9 \n"
          ]
        }
      ]
    },
    {
      "cell_type": "markdown",
      "source": [
        "4. Loop Control Statements:\n",
        "Python provides control statements that allow you to modify the behavior of loops.\n",
        "\n",
        "break: Exits the loop prematurely.\n",
        "continue: Skips the rest of the current iteration and moves to the next iteration.\n",
        "pass: Does nothing and acts as a placeholder.\n",
        "Example of break:"
      ],
      "metadata": {
        "id": "RJjRH9Cc8Eie"
      }
    },
    {
      "cell_type": "code",
      "source": [
        "for i in range(10):\n",
        "    if i == 5:\n",
        "        break  # Exit the loop when i is 5\n",
        "    print(i)\n",
        "\n"
      ],
      "metadata": {
        "colab": {
          "base_uri": "https://localhost:8080/"
        },
        "id": "is2YM8b68NeV",
        "outputId": "fbdb2a1e-a7c1-4a37-8c67-a97b87cfbc48"
      },
      "execution_count": 64,
      "outputs": [
        {
          "output_type": "stream",
          "name": "stdout",
          "text": [
            "0\n",
            "1\n",
            "2\n",
            "3\n",
            "4\n"
          ]
        }
      ]
    },
    {
      "cell_type": "markdown",
      "source": [
        "Example of continue:"
      ],
      "metadata": {
        "id": "ZsMNtdjw8cQ3"
      }
    },
    {
      "cell_type": "code",
      "source": [
        "for i in range(5):\n",
        "    if i == 2:\n",
        "        continue  # Skip the rest of the iteration when i is 2\n",
        "    print(i)\n"
      ],
      "metadata": {
        "colab": {
          "base_uri": "https://localhost:8080/"
        },
        "id": "QKjlUvG-8dir",
        "outputId": "049f0488-f61e-489e-87c5-53f1cfd149de"
      },
      "execution_count": 65,
      "outputs": [
        {
          "output_type": "stream",
          "name": "stdout",
          "text": [
            "0\n",
            "1\n",
            "3\n",
            "4\n"
          ]
        }
      ]
    },
    {
      "cell_type": "markdown",
      "source": [
        "Example of pass:"
      ],
      "metadata": {
        "id": "5bW_SUE38j54"
      }
    },
    {
      "cell_type": "code",
      "source": [
        "for i in range(5):\n",
        "    if i == 3:\n",
        "        pass  # Do nothing when i is 3\n",
        "    print(i)\n"
      ],
      "metadata": {
        "colab": {
          "base_uri": "https://localhost:8080/"
        },
        "id": "KMAjzOl98n9B",
        "outputId": "47c029c1-e755-4084-c6c2-ea1a8d1961ba"
      },
      "execution_count": 66,
      "outputs": [
        {
          "output_type": "stream",
          "name": "stdout",
          "text": [
            "0\n",
            "1\n",
            "2\n",
            "3\n",
            "4\n"
          ]
        }
      ]
    },
    {
      "cell_type": "markdown",
      "source": [
        "5. else with Loops:\n",
        "In Python, loops can have an else block. The else block executes after the loop finishes normally (i.e., without encountering a break statement).\n",
        "\n",
        "Example with for-else:"
      ],
      "metadata": {
        "id": "DDxTvSrV9FWJ"
      }
    },
    {
      "cell_type": "code",
      "source": [
        "for i in range(3):\n",
        "    print(i)\n",
        "else:\n",
        "    print(\"Loop finished!\")\n"
      ],
      "metadata": {
        "colab": {
          "base_uri": "https://localhost:8080/"
        },
        "id": "x1zA0Gmu9Ikw",
        "outputId": "fafa9abc-8b5e-491a-8edf-02957a8b58d2"
      },
      "execution_count": 67,
      "outputs": [
        {
          "output_type": "stream",
          "name": "stdout",
          "text": [
            "0\n",
            "1\n",
            "2\n",
            "Loop finished!\n"
          ]
        }
      ]
    },
    {
      "cell_type": "markdown",
      "source": [
        "Example with while-else:"
      ],
      "metadata": {
        "id": "yzfuMLM89UiT"
      }
    },
    {
      "cell_type": "code",
      "source": [
        "count = 0\n",
        "while count < 3:\n",
        "    print(count)\n",
        "    count += 1\n",
        "else:\n",
        "    print(\"Loop finished!\")\n"
      ],
      "metadata": {
        "colab": {
          "base_uri": "https://localhost:8080/"
        },
        "id": "ZnEP0EH99VnL",
        "outputId": "fa05b225-126b-44cc-9d94-6d33037f16df"
      },
      "execution_count": 68,
      "outputs": [
        {
          "output_type": "stream",
          "name": "stdout",
          "text": [
            "0\n",
            "1\n",
            "2\n",
            "Loop finished!\n"
          ]
        }
      ]
    }
  ]
}